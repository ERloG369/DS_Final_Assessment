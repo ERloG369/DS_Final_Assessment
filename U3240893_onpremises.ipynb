{
 "cells": [
  {
   "cell_type": "markdown",
   "metadata": {},
   "source": [
    "# Problem: Predicting Airplane Delays\n",
    "\n",
    "The goals of this notebook are:\n",
    "- Process and create a dataset from downloaded ZIP files\n",
    "- Exploratory data analysis (EDA)\n",
    "- Establish a baseline model and improve it\n",
    "\n",
    "## Introduction to business scenario\n",
    "You work for a travel booking website that is working to improve the customer experience for flights that were delayed. The company wants to create a feature to let customers know if the flight will be delayed due to weather when the customers are booking the flight to or from the busiest airports for domestic travel in the US. \n",
    "\n",
    "You are tasked with solving part of this problem by leveraging machine learning to identify whether the flight will be delayed due to weather. You have been given access to the a dataset of on-time performance of domestic flights operated by large air carriers. You can use this data to train a machine learning model to predict if the flight is going to be delayed for the busiest airports.\n",
    "\n",
    "### Dataset\n",
    "The provided dataset contains scheduled and actual departure and arrival times reported by certified US air carriers that account for at least 1 percent of domestic scheduled passenger revenues. The data was collected by the Office of Airline Information, Bureau of Transportation Statistics (BTS). The dataset contains date, time, origin, destination, airline, distance, and delay status of flights for flights between 2014 and 2018.\n",
    "The data are in 60 compressed files, where each file contains a CSV for the flight details in a month for the five years (from 2014 - 2018). The data can be downloaded from this link: [https://ucstaff-my.sharepoint.com/:f:/g/personal/ibrahim_radwan_canberra_edu_au/Er0nVreXmihEmtMz5qC5kVIB81-ugSusExPYdcyQTglfLg?e=bNO312]. Please download the data files and place them on a relative path. Dataset(s) used in this assignment were compiled by the Office of Airline Information, Bureau of Transportation Statistics (BTS), Airline On-Time Performance Data, available with the following link: [https://www.transtats.bts.gov/Fields.asp?gnoyr_VQ=FGJ]. "
   ]
  },
  {
   "cell_type": "markdown",
   "metadata": {},
   "source": [
    "# Step 1: Problem formulation and data collection\n",
    "\n",
    "Start this project off by writing a few sentences below that summarize the business problem and the business goal you're trying to achieve in this scenario. Include a business metric you would like your team to aspire toward. With that information defined, clearly write out the machine learning problem statement. Finally, add a comment or two about the type of machine learning this represents. \n",
    "\n",
    "\n",
    "### 1. Determine if and why ML is an appropriate solution to deploy."
   ]
  },
  {
   "cell_type": "markdown",
   "metadata": {},
   "source": [
    "-> Machine learning (ML) is an appropriate solution for this scenario because it can help address the business problem of improving the customer experience for flights that were delayed due to weather. By leveraging historical flight data, ML can predict whether a flight is likely to be delayed due to weather conditions when customers are booking their flights. This predictive capability can enable the travel booking website to provide customers with relevant information and options, such as suggesting alternative flights or offering travel insurance in case of weather-related delays. ML is suitable because it can analyze large datasets, identify patterns in historical flight data, and make real-time predictions based on current weather forecasts."
   ]
  },
  {
   "cell_type": "markdown",
   "metadata": {},
   "source": [
    "### 2. Formulate the business problem, success metrics, and desired ML output."
   ]
  },
  {
   "cell_type": "markdown",
   "metadata": {},
   "source": [
    "->\n",
    "Business Goal: The primary goal is to enhance the customer experience by providing information about potential weather-related flight delays to customers booking flights to or from the busiest airports in the US.\n",
    "\n",
    "Success Metrics: The success of this solution can be measured by:\n",
    "Accuracy of weather-related flight delay predictions.\n",
    "Reduction in customer complaints related to unexpected weather delays.\n",
    "Increase in customer satisfaction scores.\n",
    "\n",
    "Desired ML Output: The ML model should output a binary prediction indicating whether a flight is likely to be delayed due to weather (e.g., \"Delayed\" or \"Not Delayed\")."
   ]
  },
  {
   "cell_type": "markdown",
   "metadata": {},
   "source": [
    "### 3. Identify the type of ML problem you’re dealing with."
   ]
  },
  {
   "cell_type": "markdown",
   "metadata": {},
   "source": [
    "-> Type of ML Problem:\n",
    "\n",
    "This is a binary classification problem. The goal is to classify flights into one of two categories: \"Delayed due to weather\" or \"Not delayed due to weather.\" It is a supervised learning problem as we have historical data with labeled examples of flights that were or were not delayed due to weather. We can train a machine learning model using this labeled data to make predictions for future flights. Additionally, this problem involves time-series data as it spans five years, and the historical flight data is collected over time."
   ]
  },
  {
   "cell_type": "markdown",
   "metadata": {},
   "source": [
    "### Setup\n",
    "\n",
    "Now that we have decided where to focus our energy, let's set things up so you can start working on solving the problem."
   ]
  },
  {
   "cell_type": "code",
   "execution_count": 1,
   "metadata": {},
   "outputs": [],
   "source": [
    "import os\n",
    "from pathlib import Path\n",
    "from zipfile import ZipFile\n",
    "import time\n",
    "\n",
    "\n",
    "import pandas as pd\n",
    "import numpy as np\n",
    "import subprocess\n",
    "\n",
    "import matplotlib.pyplot as plt\n",
    "import seaborn as sns\n",
    "\n",
    "sns.set()\n",
    "\n",
    "import warnings\n",
    "warnings.filterwarnings('ignore')\n",
    "\n",
    "%matplotlib inline\n",
    "\n",
    "# <please add any other library or function you are aiming to import here>\n",
    "import os\n",
    "import zipfile"
   ]
  },
  {
   "cell_type": "markdown",
   "metadata": {},
   "source": [
    "# Step 2: Data preprocessing and visualization  \n",
    "In this data preprocessing phase, you should take the opportunity to explore and visualize your data to better understand it. First, import the necessary libraries and read the data into a Pandas dataframe. After that, explore your data. Look for the shape of the dataset and explore your columns and the types of columns you're working with (numerical, categorical). Consider performing basic statistics on the features to get a sense of feature means and ranges. Take a close look at your target column and determine its distribution.\n",
    "\n",
    "### Specific questions to consider\n",
    "1. What can you deduce from the basic statistics you ran on the features? \n",
    "\n",
    "2. What can you deduce from the distributions of the target classes?\n",
    "\n",
    "3. Is there anything else you deduced from exploring the data?"
   ]
  },
  {
   "cell_type": "markdown",
   "metadata": {},
   "source": [
    "Start by bringing in the dataset from an Amazon S3 public bucket to this notebook environment."
   ]
  },
  {
   "cell_type": "code",
   "execution_count": 2,
   "metadata": {},
   "outputs": [
    {
     "name": "stdout",
     "output_type": "stream",
     "text": [
      "/Users/er.log/Desktop/Sem3/Data Science and BI/Assignments/Final/Final\n"
     ]
    }
   ],
   "source": [
    "# download the files\n",
    "\n",
    "# <note: make them all relative, absolute path is not accepted>\n",
    "os.chdir(os.getcwd())\n",
    "zip_path = './data/data_compressed.zip'\n",
    "base_path = os.getcwd()\n",
    "csv_base_path = './data/data_extracted'\n",
    "\n",
    "!mkdir -p {csv_base_path}\n",
    "\n",
    "# Extract zip files\n",
    "with zipfile.ZipFile(zip_path, 'r') as zip_ref:\n",
    "    zip_ref.extractall(csv_base_path)\n",
    "print(os.getcwd())\n"
   ]
  },
  {
   "cell_type": "code",
   "execution_count": 3,
   "metadata": {},
   "outputs": [
    {
     "name": "stdout",
     "output_type": "stream",
     "text": [
      "There are 60 zip files in the extracted directory.\n",
      "/Users/er.log/Desktop/Sem3/Data Science and BI/Assignments/Final/Final./data/data_extracted/data_compressed\n"
     ]
    }
   ],
   "source": [
    "# How many zip files do we have? write a code to answer it.\n",
    "from pathlib import Path\n",
    "\n",
    "# Define the path to the extracted directory\n",
    "csv_base_path = './data/data_extracted/data_compressed'\n",
    "\n",
    "# List all zip files in the directory\n",
    "zip_files = list(Path(csv_base_path).glob(\"*.zip\"))\n",
    "\n",
    "# Print the number of zip files\n",
    "print(f\"There are {len(zip_files)} zip files in the extracted directory.\")\n",
    "\n",
    "\n",
    "# Print the current working directory to verify\n",
    "print(os.getcwd()+csv_base_path)"
   ]
  },
  {
   "cell_type": "markdown",
   "metadata": {},
   "source": [
    "#### Extract CSV files from ZIP files"
   ]
  },
  {
   "cell_type": "code",
   "execution_count": 4,
   "metadata": {
    "scrolled": false
   },
   "outputs": [
    {
     "name": "stdout",
     "output_type": "stream",
     "text": [
      "Extracting data/data_extracted/data_compressed/On_Time_Reporting_Carrier_On_Time_Performance_1987_present_2014_1.zip ...\n",
      "Extracting data/data_extracted/data_compressed/On_Time_Reporting_Carrier_On_Time_Performance_1987_present_2016_3.zip ...\n",
      "Extracting data/data_extracted/data_compressed/On_Time_Reporting_Carrier_On_Time_Performance_1987_present_2016_2.zip ...\n",
      "Extracting data/data_extracted/data_compressed/On_Time_Reporting_Carrier_On_Time_Performance_1987_present_2014_2.zip ...\n",
      "Extracting data/data_extracted/data_compressed/On_Time_Reporting_Carrier_On_Time_Performance_1987_present_2016_1.zip ...\n",
      "Extracting data/data_extracted/data_compressed/On_Time_Reporting_Carrier_On_Time_Performance_1987_present_2014_3.zip ...\n",
      "Extracting data/data_extracted/data_compressed/On_Time_Reporting_Carrier_On_Time_Performance_1987_present_2014_7.zip ...\n",
      "Extracting data/data_extracted/data_compressed/On_Time_Reporting_Carrier_On_Time_Performance_1987_present_2016_5.zip ...\n",
      "Extracting data/data_extracted/data_compressed/On_Time_Reporting_Carrier_On_Time_Performance_1987_present_2016_4.zip ...\n",
      "Extracting data/data_extracted/data_compressed/On_Time_Reporting_Carrier_On_Time_Performance_1987_present_2014_6.zip ...\n",
      "Extracting data/data_extracted/data_compressed/On_Time_Reporting_Carrier_On_Time_Performance_1987_present_2014_4.zip ...\n",
      "Extracting data/data_extracted/data_compressed/On_Time_Reporting_Carrier_On_Time_Performance_1987_present_2016_6.zip ...\n",
      "Extracting data/data_extracted/data_compressed/On_Time_Reporting_Carrier_On_Time_Performance_1987_present_2018_9.zip ...\n",
      "Extracting data/data_extracted/data_compressed/On_Time_Reporting_Carrier_On_Time_Performance_1987_present_2018_8.zip ...\n",
      "Extracting data/data_extracted/data_compressed/On_Time_Reporting_Carrier_On_Time_Performance_1987_present_2016_7.zip ...\n",
      "Extracting data/data_extracted/data_compressed/On_Time_Reporting_Carrier_On_Time_Performance_1987_present_2014_5.zip ...\n",
      "Extracting data/data_extracted/data_compressed/On_Time_Reporting_Carrier_On_Time_Performance_1987_present_2017_10.zip ...\n",
      "Extracting data/data_extracted/data_compressed/On_Time_Reporting_Carrier_On_Time_Performance_1987_present_2015_2.zip ...\n",
      "Extracting data/data_extracted/data_compressed/On_Time_Reporting_Carrier_On_Time_Performance_1987_present_2015_3.zip ...\n",
      "Extracting data/data_extracted/data_compressed/On_Time_Reporting_Carrier_On_Time_Performance_1987_present_2017_1.zip ...\n",
      "Extracting data/data_extracted/data_compressed/On_Time_Reporting_Carrier_On_Time_Performance_1987_present_2017_11.zip ...\n",
      "Extracting data/data_extracted/data_compressed/On_Time_Reporting_Carrier_On_Time_Performance_1987_present_2017_3.zip ...\n",
      "Extracting data/data_extracted/data_compressed/On_Time_Reporting_Carrier_On_Time_Performance_1987_present_2015_1.zip ...\n",
      "Extracting data/data_extracted/data_compressed/On_Time_Reporting_Carrier_On_Time_Performance_1987_present_2017_2.zip ...\n",
      "Extracting data/data_extracted/data_compressed/On_Time_Reporting_Carrier_On_Time_Performance_1987_present_2017_12.zip ...\n",
      "Extracting data/data_extracted/data_compressed/On_Time_Reporting_Carrier_On_Time_Performance_1987_present_2017_6.zip ...\n",
      "Extracting data/data_extracted/data_compressed/On_Time_Reporting_Carrier_On_Time_Performance_1987_present_2015_4.zip ...\n",
      "Extracting data/data_extracted/data_compressed/On_Time_Reporting_Carrier_On_Time_Performance_1987_present_2015_5.zip ...\n",
      "Extracting data/data_extracted/data_compressed/On_Time_Reporting_Carrier_On_Time_Performance_1987_present_2015_12.zip ...\n",
      "Extracting data/data_extracted/data_compressed/On_Time_Reporting_Carrier_On_Time_Performance_1987_present_2017_7.zip ...\n",
      "Extracting data/data_extracted/data_compressed/On_Time_Reporting_Carrier_On_Time_Performance_1987_present_2017_5.zip ...\n",
      "Extracting data/data_extracted/data_compressed/On_Time_Reporting_Carrier_On_Time_Performance_1987_present_2015_10.zip ...\n",
      "Extracting data/data_extracted/data_compressed/On_Time_Reporting_Carrier_On_Time_Performance_1987_present_2015_7.zip ...\n",
      "Extracting data/data_extracted/data_compressed/On_Time_Reporting_Carrier_On_Time_Performance_1987_present_2015_6.zip ...\n",
      "Extracting data/data_extracted/data_compressed/On_Time_Reporting_Carrier_On_Time_Performance_1987_present_2015_11.zip ...\n",
      "Extracting data/data_extracted/data_compressed/On_Time_Reporting_Carrier_On_Time_Performance_1987_present_2017_4.zip ...\n",
      "Extracting data/data_extracted/data_compressed/On_Time_Reporting_Carrier_On_Time_Performance_1987_present_2017_9.zip ...\n",
      "Extracting data/data_extracted/data_compressed/On_Time_Reporting_Carrier_On_Time_Performance_1987_present_2017_8.zip ...\n",
      "Extracting data/data_extracted/data_compressed/On_Time_Reporting_Carrier_On_Time_Performance_1987_present_2015_8.zip ...\n",
      "Extracting data/data_extracted/data_compressed/On_Time_Reporting_Carrier_On_Time_Performance_1987_present_2015_9.zip ...\n",
      "Extracting data/data_extracted/data_compressed/On_Time_Reporting_Carrier_On_Time_Performance_1987_present_2014_8.zip ...\n",
      "Extracting data/data_extracted/data_compressed/On_Time_Reporting_Carrier_On_Time_Performance_1987_present_2018_5.zip ...\n",
      "Extracting data/data_extracted/data_compressed/On_Time_Reporting_Carrier_On_Time_Performance_1987_present_2016_12.zip ...\n",
      "Extracting data/data_extracted/data_compressed/On_Time_Reporting_Carrier_On_Time_Performance_1987_present_2018_4.zip ...\n",
      "Extracting data/data_extracted/data_compressed/On_Time_Reporting_Carrier_On_Time_Performance_1987_present_2014_9.zip ...\n",
      "Extracting data/data_extracted/data_compressed/On_Time_Reporting_Carrier_On_Time_Performance_1987_present_2016_9.zip ...\n",
      "Extracting data/data_extracted/data_compressed/On_Time_Reporting_Carrier_On_Time_Performance_1987_present_2018_6.zip ...\n",
      "Extracting data/data_extracted/data_compressed/On_Time_Reporting_Carrier_On_Time_Performance_1987_present_2016_11.zip ...\n",
      "Extracting data/data_extracted/data_compressed/On_Time_Reporting_Carrier_On_Time_Performance_1987_present_2016_10.zip ...\n",
      "Extracting data/data_extracted/data_compressed/On_Time_Reporting_Carrier_On_Time_Performance_1987_present_2018_7.zip ...\n",
      "Extracting data/data_extracted/data_compressed/On_Time_Reporting_Carrier_On_Time_Performance_1987_present_2016_8.zip ...\n",
      "Extracting data/data_extracted/data_compressed/On_Time_Reporting_Carrier_On_Time_Performance_1987_present_2014_11.zip ...\n",
      "Extracting data/data_extracted/data_compressed/On_Time_Reporting_Carrier_On_Time_Performance_1987_present_2018_3.zip ...\n",
      "Extracting data/data_extracted/data_compressed/On_Time_Reporting_Carrier_On_Time_Performance_1987_present_2018_11.zip ...\n",
      "Extracting data/data_extracted/data_compressed/On_Time_Reporting_Carrier_On_Time_Performance_1987_present_2018_10.zip ...\n",
      "Extracting data/data_extracted/data_compressed/On_Time_Reporting_Carrier_On_Time_Performance_1987_present_2018_2.zip ...\n",
      "Extracting data/data_extracted/data_compressed/On_Time_Reporting_Carrier_On_Time_Performance_1987_present_2014_10.zip ...\n",
      "Extracting data/data_extracted/data_compressed/On_Time_Reporting_Carrier_On_Time_Performance_1987_present_2014_12.zip ...\n",
      "Extracting data/data_extracted/data_compressed/On_Time_Reporting_Carrier_On_Time_Performance_1987_present_2018_12.zip ...\n",
      "Extracting data/data_extracted/data_compressed/On_Time_Reporting_Carrier_On_Time_Performance_1987_present_2018_1.zip ...\n",
      "Files Extracted\n"
     ]
    }
   ],
   "source": [
    "csv_store_path = './data/data_extracted/csv'\n",
    "\n",
    "# List all zip files in the directory\n",
    "zip_files = list(Path(csv_base_path).glob(\"*.zip\"))\n",
    "\n",
    "def zip2csv(zipFile_name, file_path):\n",
    "    \"\"\"\n",
    "    Extract csv files from a zip file.\n",
    "    \n",
    "    Parameters:\n",
    "    - zipFile_name (str): Path to the zip file.\n",
    "    - file_path (str): Directory where extracted CSV files will be stored.\n",
    "    \"\"\"\n",
    "    try:\n",
    "        with ZipFile(zipFile_name, 'r') as z: \n",
    "            print(f'Extracting {zipFile_name} ...') \n",
    "            z.extractall(path=file_path) \n",
    "    except Exception as e:\n",
    "        print(f'zip2csv failed for {zipFile_name}. Error: {e}')\n",
    "\n",
    "# Extracting CSV files from each zip file to csv_store_path\n",
    "for file in zip_files:\n",
    "    zip2csv(file, csv_store_path)\n",
    "\n",
    "print(\"Files Extracted\")\n"
   ]
  },
  {
   "cell_type": "code",
   "execution_count": 5,
   "metadata": {},
   "outputs": [
    {
     "name": "stdout",
     "output_type": "stream",
     "text": [
      "There are 60 CSV files in the extracted directory.\n"
     ]
    }
   ],
   "source": [
    "# How many csv files have we extracted? write a code to answer it.\n",
    "\n",
    "# List all CSV files in the directory\n",
    "csv_files = list(Path(csv_store_path).glob(\"*.csv\"))\n",
    "\n",
    "# Print the number of CSV files\n",
    "print(f\"There are {len(csv_files)} CSV files in the extracted directory.\")\n"
   ]
  },
  {
   "cell_type": "markdown",
   "metadata": {},
   "source": [
    "Before loading the CSV file, read the HTML file from the extracted folder. This HTML file includes the background and more information on the features included in the dataset."
   ]
  },
  {
   "cell_type": "code",
   "execution_count": 6,
   "metadata": {},
   "outputs": [
    {
     "data": {
      "text/html": [
       "\n",
       "        <iframe\n",
       "            width=\"1000\"\n",
       "            height=\"600\"\n",
       "            src=\"data/data_extracted/csv/readme.html\"\n",
       "            frameborder=\"0\"\n",
       "            allowfullscreen\n",
       "            \n",
       "        ></iframe>\n",
       "        "
      ],
      "text/plain": [
       "<IPython.lib.display.IFrame at 0x7f7d4b347ee0>"
      ]
     },
     "execution_count": 6,
     "metadata": {},
     "output_type": "execute_result"
    }
   ],
   "source": [
    "from IPython.display import IFrame\n",
    "\n",
    "\n",
    "csv_base_path = './data/data_extracted/csv/'\n",
    "\n",
    "IFrame(src=os.path.relpath(f\"{csv_base_path}readme.html\"), width=1000, height=600)"
   ]
  },
  {
   "cell_type": "markdown",
   "metadata": {},
   "source": [
    "#### Load sample CSV\n",
    "\n",
    "Before combining all the CSV files, get a sense of the data from a single CSV file. Using Pandas, read the `On_Time_Reporting_Carrier_On_Time_Performance_(1987_present)_2018_9.csv` file first. You can use the Python built-in `read_csv` function ([documentation](https://pandas.pydata.org/pandas-docs/stable/reference/api/pandas.read_csv.html))."
   ]
  },
  {
   "cell_type": "code",
   "execution_count": 7,
   "metadata": {
    "scrolled": false
   },
   "outputs": [
    {
     "name": "stdout",
     "output_type": "stream",
     "text": [
      "   Year  Quarter  Month  DayofMonth  DayOfWeek  FlightDate Reporting_Airline  \\\n",
      "0  2018        3      9           3          1  2018-09-03                9E   \n",
      "1  2018        3      9           9          7  2018-09-09                9E   \n",
      "2  2018        3      9          10          1  2018-09-10                9E   \n",
      "3  2018        3      9          13          4  2018-09-13                9E   \n",
      "4  2018        3      9          14          5  2018-09-14                9E   \n",
      "\n",
      "   DOT_ID_Reporting_Airline IATA_CODE_Reporting_Airline Tail_Number  ...  \\\n",
      "0                     20363                          9E      N908XJ  ...   \n",
      "1                     20363                          9E      N315PQ  ...   \n",
      "2                     20363                          9E      N582CA  ...   \n",
      "3                     20363                          9E      N292PQ  ...   \n",
      "4                     20363                          9E      N600LR  ...   \n",
      "\n",
      "   Div4TailNum  Div5Airport  Div5AirportID  Div5AirportSeqID Div5WheelsOn  \\\n",
      "0          NaN          NaN            NaN               NaN          NaN   \n",
      "1          NaN          NaN            NaN               NaN          NaN   \n",
      "2          NaN          NaN            NaN               NaN          NaN   \n",
      "3          NaN          NaN            NaN               NaN          NaN   \n",
      "4          NaN          NaN            NaN               NaN          NaN   \n",
      "\n",
      "  Div5TotalGTime Div5LongestGTime  Div5WheelsOff Div5TailNum  Unnamed: 109  \n",
      "0            NaN              NaN            NaN         NaN           NaN  \n",
      "1            NaN              NaN            NaN         NaN           NaN  \n",
      "2            NaN              NaN            NaN         NaN           NaN  \n",
      "3            NaN              NaN            NaN         NaN           NaN  \n",
      "4            NaN              NaN            NaN         NaN           NaN  \n",
      "\n",
      "[5 rows x 110 columns]\n"
     ]
    }
   ],
   "source": [
    "# Path to the directory where CSV files are stored\n",
    "#csv_store_path = './data/data_extracted/csv/'\n",
    "\n",
    "# Name of the sample CSV file\n",
    "csv_file_name = 'On_Time_Reporting_Carrier_On_Time_Performance_(1987_present)_2018_9.csv'\n",
    "\n",
    "# Full path to the sample CSV file\n",
    "csv_file_path = csv_base_path + csv_file_name\n",
    "\n",
    "# Read the CSV file using pandas\n",
    "df_temp = pd.read_csv(csv_file_path)\n",
    "\n",
    "# Display the first few rows to get a sense of the data\n",
    "print(df_temp.head())"
   ]
  },
  {
   "cell_type": "markdown",
   "metadata": {},
   "source": [
    "**Question**: Print the row and column length in the dataset, and print the column names."
   ]
  },
  {
   "cell_type": "code",
   "execution_count": 8,
   "metadata": {},
   "outputs": [
    {
     "name": "stdout",
     "output_type": "stream",
     "text": [
      "Rows and columns in one csv file is (585749, 110)\n"
     ]
    }
   ],
   "source": [
    "df_shape = df_temp.shape\n",
    "print(f'Rows and columns in one csv file is {df_shape}')\n",
    "\n"
   ]
  },
  {
   "cell_type": "markdown",
   "metadata": {},
   "source": [
    "**Question**: Print the first 10 rows of the dataset.  "
   ]
  },
  {
   "cell_type": "code",
   "execution_count": 9,
   "metadata": {
    "scrolled": false
   },
   "outputs": [
    {
     "name": "stdout",
     "output_type": "stream",
     "text": [
      "   Year  Quarter  Month  DayofMonth  DayOfWeek  FlightDate Reporting_Airline  \\\n",
      "0  2018        3      9           3          1  2018-09-03                9E   \n",
      "1  2018        3      9           9          7  2018-09-09                9E   \n",
      "2  2018        3      9          10          1  2018-09-10                9E   \n",
      "3  2018        3      9          13          4  2018-09-13                9E   \n",
      "4  2018        3      9          14          5  2018-09-14                9E   \n",
      "5  2018        3      9          16          7  2018-09-16                9E   \n",
      "6  2018        3      9          17          1  2018-09-17                9E   \n",
      "7  2018        3      9          20          4  2018-09-20                9E   \n",
      "8  2018        3      9          21          5  2018-09-21                9E   \n",
      "9  2018        3      9          23          7  2018-09-23                9E   \n",
      "\n",
      "   DOT_ID_Reporting_Airline IATA_CODE_Reporting_Airline Tail_Number  ...  \\\n",
      "0                     20363                          9E      N908XJ  ...   \n",
      "1                     20363                          9E      N315PQ  ...   \n",
      "2                     20363                          9E      N582CA  ...   \n",
      "3                     20363                          9E      N292PQ  ...   \n",
      "4                     20363                          9E      N600LR  ...   \n",
      "5                     20363                          9E      N316PQ  ...   \n",
      "6                     20363                          9E      N916XJ  ...   \n",
      "7                     20363                          9E      N371CA  ...   \n",
      "8                     20363                          9E      N601LR  ...   \n",
      "9                     20363                          9E      N906XJ  ...   \n",
      "\n",
      "   Div4TailNum  Div5Airport  Div5AirportID  Div5AirportSeqID Div5WheelsOn  \\\n",
      "0          NaN          NaN            NaN               NaN          NaN   \n",
      "1          NaN          NaN            NaN               NaN          NaN   \n",
      "2          NaN          NaN            NaN               NaN          NaN   \n",
      "3          NaN          NaN            NaN               NaN          NaN   \n",
      "4          NaN          NaN            NaN               NaN          NaN   \n",
      "5          NaN          NaN            NaN               NaN          NaN   \n",
      "6          NaN          NaN            NaN               NaN          NaN   \n",
      "7          NaN          NaN            NaN               NaN          NaN   \n",
      "8          NaN          NaN            NaN               NaN          NaN   \n",
      "9          NaN          NaN            NaN               NaN          NaN   \n",
      "\n",
      "  Div5TotalGTime Div5LongestGTime  Div5WheelsOff Div5TailNum  Unnamed: 109  \n",
      "0            NaN              NaN            NaN         NaN           NaN  \n",
      "1            NaN              NaN            NaN         NaN           NaN  \n",
      "2            NaN              NaN            NaN         NaN           NaN  \n",
      "3            NaN              NaN            NaN         NaN           NaN  \n",
      "4            NaN              NaN            NaN         NaN           NaN  \n",
      "5            NaN              NaN            NaN         NaN           NaN  \n",
      "6            NaN              NaN            NaN         NaN           NaN  \n",
      "7            NaN              NaN            NaN         NaN           NaN  \n",
      "8            NaN              NaN            NaN         NaN           NaN  \n",
      "9            NaN              NaN            NaN         NaN           NaN  \n",
      "\n",
      "[10 rows x 110 columns]\n"
     ]
    }
   ],
   "source": [
    "# Enter your code here\n",
    "print(df_temp.head(10))\n"
   ]
  },
  {
   "cell_type": "markdown",
   "metadata": {},
   "source": [
    "**Question**: Print all the columns in the dataset. Use `<dataframe>.columns` to view the column names."
   ]
  },
  {
   "cell_type": "code",
   "execution_count": 10,
   "metadata": {
    "scrolled": true
   },
   "outputs": [
    {
     "name": "stdout",
     "output_type": "stream",
     "text": [
      "The column names are :\n",
      "#########\n",
      "Year\n",
      "Quarter\n",
      "Month\n",
      "DayofMonth\n",
      "DayOfWeek\n",
      "FlightDate\n",
      "Reporting_Airline\n",
      "DOT_ID_Reporting_Airline\n",
      "IATA_CODE_Reporting_Airline\n",
      "Tail_Number\n",
      "Flight_Number_Reporting_Airline\n",
      "OriginAirportID\n",
      "OriginAirportSeqID\n",
      "OriginCityMarketID\n",
      "Origin\n",
      "OriginCityName\n",
      "OriginState\n",
      "OriginStateFips\n",
      "OriginStateName\n",
      "OriginWac\n",
      "DestAirportID\n",
      "DestAirportSeqID\n",
      "DestCityMarketID\n",
      "Dest\n",
      "DestCityName\n",
      "DestState\n",
      "DestStateFips\n",
      "DestStateName\n",
      "DestWac\n",
      "CRSDepTime\n",
      "DepTime\n",
      "DepDelay\n",
      "DepDelayMinutes\n",
      "DepDel15\n",
      "DepartureDelayGroups\n",
      "DepTimeBlk\n",
      "TaxiOut\n",
      "WheelsOff\n",
      "WheelsOn\n",
      "TaxiIn\n",
      "CRSArrTime\n",
      "ArrTime\n",
      "ArrDelay\n",
      "ArrDelayMinutes\n",
      "ArrDel15\n",
      "ArrivalDelayGroups\n",
      "ArrTimeBlk\n",
      "Cancelled\n",
      "CancellationCode\n",
      "Diverted\n",
      "CRSElapsedTime\n",
      "ActualElapsedTime\n",
      "AirTime\n",
      "Flights\n",
      "Distance\n",
      "DistanceGroup\n",
      "CarrierDelay\n",
      "WeatherDelay\n",
      "NASDelay\n",
      "SecurityDelay\n",
      "LateAircraftDelay\n",
      "FirstDepTime\n",
      "TotalAddGTime\n",
      "LongestAddGTime\n",
      "DivAirportLandings\n",
      "DivReachedDest\n",
      "DivActualElapsedTime\n",
      "DivArrDelay\n",
      "DivDistance\n",
      "Div1Airport\n",
      "Div1AirportID\n",
      "Div1AirportSeqID\n",
      "Div1WheelsOn\n",
      "Div1TotalGTime\n",
      "Div1LongestGTime\n",
      "Div1WheelsOff\n",
      "Div1TailNum\n",
      "Div2Airport\n",
      "Div2AirportID\n",
      "Div2AirportSeqID\n",
      "Div2WheelsOn\n",
      "Div2TotalGTime\n",
      "Div2LongestGTime\n",
      "Div2WheelsOff\n",
      "Div2TailNum\n",
      "Div3Airport\n",
      "Div3AirportID\n",
      "Div3AirportSeqID\n",
      "Div3WheelsOn\n",
      "Div3TotalGTime\n",
      "Div3LongestGTime\n",
      "Div3WheelsOff\n",
      "Div3TailNum\n",
      "Div4Airport\n",
      "Div4AirportID\n",
      "Div4AirportSeqID\n",
      "Div4WheelsOn\n",
      "Div4TotalGTime\n",
      "Div4LongestGTime\n",
      "Div4WheelsOff\n",
      "Div4TailNum\n",
      "Div5Airport\n",
      "Div5AirportID\n",
      "Div5AirportSeqID\n",
      "Div5WheelsOn\n",
      "Div5TotalGTime\n",
      "Div5LongestGTime\n",
      "Div5WheelsOff\n",
      "Div5TailNum\n",
      "Unnamed: 109\n"
     ]
    }
   ],
   "source": [
    "print(f'The column names are :')\n",
    "print('#########')\n",
    "for col in df_temp.columns: # Replaced <CODE> with df_temp.columns\n",
    "    print(col)\n"
   ]
  },
  {
   "cell_type": "markdown",
   "metadata": {},
   "source": [
    "**Question**: Print all the columns in the dataset that contain the word 'Del'. This will help you see how many columns have delay data in them.\n",
    "\n",
    "**Hint**: You can use a Python list comprehension to include values that pass certain `if` statement criteria.\n",
    "\n",
    "For example: `[x for x in [1,2,3,4,5] if x > 2]`  \n",
    "\n",
    "**Hint**: You can use the `in` keyword ([documentation](https://www.w3schools.com/python/ref_keyword_in.asp)) to check if the value is in a list or not. \n",
    "\n",
    "For example: `5 in [1,2,3,4,5]`"
   ]
  },
  {
   "cell_type": "code",
   "execution_count": 11,
   "metadata": {},
   "outputs": [
    {
     "name": "stdout",
     "output_type": "stream",
     "text": [
      "Columns containing the word \"Del\" are:\n",
      "DepDelay\n",
      "DepDelayMinutes\n",
      "DepDel15\n",
      "DepartureDelayGroups\n",
      "ArrDelay\n",
      "ArrDelayMinutes\n",
      "ArrDel15\n",
      "ArrivalDelayGroups\n",
      "CarrierDelay\n",
      "WeatherDelay\n",
      "NASDelay\n",
      "SecurityDelay\n",
      "LateAircraftDelay\n",
      "DivArrDelay\n"
     ]
    }
   ],
   "source": [
    "# Using list comprehension to get columns containing the word 'Del'\n",
    "delay_columns = [col for col in df_temp.columns if 'Del' in col]\n",
    "\n",
    "print(f'Columns containing the word \"Del\" are:')\n",
    "for col in delay_columns:\n",
    "    print(col)\n"
   ]
  },
  {
   "cell_type": "markdown",
   "metadata": {},
   "source": [
    "Here are some more questions to help you find out more about your dataset.\n",
    "\n",
    "**Questions**   \n",
    "1. How many rows and columns does the dataset have?   \n",
    "2. How many years are included in the dataset?   \n",
    "3. What is the date range for the dataset?   \n",
    "4. Which airlines are included in the dataset?   \n",
    "5. Which origin and destination airports are covered?"
   ]
  },
  {
   "cell_type": "code",
   "execution_count": 12,
   "metadata": {},
   "outputs": [
    {
     "name": "stdout",
     "output_type": "stream",
     "text": [
      "The #rows and #columns are 585749 and 110 \n",
      "\n",
      "The years in this dataset are: [2018] \n",
      "\n",
      "The months covered in this dataset are: [9] \n",
      "\n",
      "The date range for data is: 2018-09-01 to 2018-09-30 \n",
      "\n",
      "The airlines covered in this dataset are: ['9E', 'B6', 'WN', 'YV', 'YX', 'EV', 'AA', 'AS', 'DL', 'HA', 'UA', 'F9', 'G4', 'MQ', 'NK', 'OH', 'OO'] \n",
      "\n",
      "The Origin airports covered are: ['DFW', 'LGA', 'MSN', 'MSP', 'ATL', 'BDL', 'VLD', 'JFK', 'RDU', 'CHS', 'DTW', 'GRB', 'PVD', 'SHV', 'FNT', 'PIT', 'RIC', 'RST', 'RSW', 'CVG', 'LIT', 'ORD', 'JAX', 'TRI', 'BOS', 'CWA', 'DCA', 'CHO', 'AVP', 'IND', 'GRR', 'BTR', 'MEM', 'TUL', 'CLE', 'STL', 'BTV', 'OMA', 'MGM', 'TVC', 'SAV', 'GSP', 'EWR', 'OAJ', 'BNA', 'MCI', 'TLH', 'ROC', 'LEX', 'PWM', 'BUF', 'AGS', 'CLT', 'GSO', 'BWI', 'SAT', 'PHL', 'TYS', 'ACK', 'DSM', 'GNV', 'AVL', 'BGR', 'MHT', 'ILM', 'MOT', 'IAH', 'SBN', 'SYR', 'ORF', 'MKE', 'XNA', 'MSY', 'PBI', 'ABE', 'HPN', 'EVV', 'ALB', 'LNK', 'AUS', 'PHF', 'CHA', 'GTR', 'BMI', 'BQK', 'CID', 'CAK', 'ATW', 'ABY', 'CAE', 'SRQ', 'MLI', 'BHM', 'IAD', 'CSG', 'CMH', 'MCO', 'MBS', 'FLL', 'SDF', 'TPA', 'MVY', 'LAS', 'LGB', 'SFO', 'SAN', 'LAX', 'RNO', 'PDX', 'ANC', 'ABQ', 'SLC', 'DEN', 'PHX', 'OAK', 'SMF', 'SJU', 'SEA', 'HOU', 'STX', 'BUR', 'SWF', 'SJC', 'DAB', 'BQN', 'PSE', 'ORH', 'HYA', 'STT', 'ONT', 'HRL', 'ICT', 'ISP', 'LBB', 'MAF', 'MDW', 'OKC', 'PNS', 'SNA', 'TUS', 'AMA', 'BOI', 'CRP', 'DAL', 'ECP', 'ELP', 'GEG', 'LFT', 'MFE', 'MDT', 'JAN', 'COS', 'MOB', 'VPS', 'MTJ', 'DRO', 'GPT', 'BFL', 'MRY', 'SBA', 'PSP', 'FSD', 'BRO', 'RAP', 'COU', 'STS', 'PIA', 'FAT', 'SBP', 'FSM', 'HSV', 'BIS', 'DAY', 'BZN', 'MIA', 'EYW', 'MYR', 'HHH', 'GJT', 'FAR', 'SGF', 'HOB', 'CLL', 'LRD', 'AEX', 'ERI', 'MLU', 'LCH', 'ROA', 'LAW', 'MHK', 'GRK', 'SAF', 'GRI', 'JLN', 'ROW', 'FWA', 'CRW', 'LAN', 'OGG', 'HNL', 'KOA', 'EGE', 'LIH', 'MLB', 'JAC', 'FAI', 'RDM', 'ADQ', 'BET', 'BRW', 'SCC', 'KTN', 'YAK', 'CDV', 'JNU', 'SIT', 'PSG', 'WRG', 'OME', 'OTZ', 'ADK', 'FCA', 'FAY', 'PSC', 'BIL', 'MSO', 'ITO', 'PPG', 'MFR', 'EUG', 'GUM', 'SPN', 'DLH', 'TTN', 'BKG', 'SFB', 'PIE', 'PGD', 'AZA', 'SMX', 'RFD', 'SCK', 'OWB', 'HTS', 'BLV', 'IAG', 'USA', 'GFK', 'BLI', 'ELM', 'PBG', 'LCK', 'GTF', 'OGD', 'IDA', 'PVU', 'TOL', 'PSM', 'CKB', 'HGR', 'SPI', 'STC', 'ACT', 'TYR', 'ABI', 'AZO', 'CMI', 'BPT', 'GCK', 'MQT', 'ALO', 'TXK', 'SPS', 'SWO', 'DBQ', 'SUX', 'SJT', 'GGG', 'LSE', 'LBE', 'ACY', 'LYH', 'PGV', 'HVN', 'EWN', 'DHN', 'PIH', 'IMT', 'WYS', 'CPR', 'SCE', 'HLN', 'SUN', 'ISN', 'CMX', 'EAU', 'LWB', 'SHD', 'LBF', 'HYS', 'SLN', 'EAR', 'VEL', 'CNY', 'GCC', 'RKS', 'PUB', 'LBL', 'MKG', 'PAH', 'CGI', 'UIN', 'BFF', 'DVL', 'JMS', 'LAR', 'SGU', 'PRC', 'ASE', 'RDD', 'ACV', 'OTH', 'COD', 'LWS', 'ABR', 'APN', 'ESC', 'PLN', 'BJI', 'BRD', 'BTM', 'CDC', 'CIU', 'EKO', 'TWF', 'HIB', 'BGM', 'RHI', 'ITH', 'INL', 'FLG', 'YUM', 'MEI', 'PIB', 'HDN'] \n",
      "\n",
      "The Destination airports covered are: ['CVG', 'PWM', 'RDU', 'MSP', 'MSN', 'SHV', 'CLT', 'PIT', 'RIC', 'IAH', 'ATL', 'JFK', 'DCA', 'DTW', 'LGA', 'TYS', 'PVD', 'FNT', 'LIT', 'BUF', 'ORD', 'TRI', 'IND', 'BGR', 'AVP', 'BWI', 'LEX', 'BDL', 'GRR', 'CWA', 'TUL', 'MEM', 'AGS', 'EWR', 'MGM', 'PHL', 'SYR', 'OMA', 'STL', 'TVC', 'ORF', 'CLE', 'ABY', 'BOS', 'OAJ', 'TLH', 'BTR', 'SAT', 'JAX', 'BNA', 'CHO', 'VLD', 'ROC', 'DFW', 'GNV', 'ACK', 'PBI', 'CHS', 'GRB', 'MOT', 'MKE', 'DSM', 'ILM', 'GSO', 'MCI', 'SBN', 'BTV', 'MVY', 'XNA', 'RST', 'EVV', 'HPN', 'RSW', 'MDT', 'ROA', 'GSP', 'MCO', 'CSG', 'SAV', 'PHF', 'ALB', 'CHA', 'ABE', 'BMI', 'MSY', 'IAD', 'GTR', 'CID', 'CAK', 'ATW', 'AUS', 'BQK', 'MLI', 'CAE', 'CMH', 'AVL', 'MBS', 'FLL', 'SDF', 'TPA', 'LNK', 'SRQ', 'MHT', 'BHM', 'LAS', 'SFO', 'SAN', 'RNO', 'LGB', 'ANC', 'PDX', 'SJU', 'ABQ', 'SLC', 'DEN', 'LAX', 'PHX', 'OAK', 'SMF', 'SEA', 'STX', 'BUR', 'DAB', 'SJC', 'SWF', 'HOU', 'BQN', 'PSE', 'ORH', 'HYA', 'STT', 'ONT', 'DAL', 'ECP', 'ELP', 'HRL', 'MAF', 'MDW', 'OKC', 'PNS', 'SNA', 'AMA', 'BOI', 'GEG', 'ICT', 'LBB', 'TUS', 'ISP', 'CRP', 'MFE', 'LFT', 'VPS', 'JAN', 'COS', 'MOB', 'DRO', 'GPT', 'BFL', 'COU', 'SBP', 'MTJ', 'SBA', 'PSP', 'FSD', 'FSM', 'BRO', 'PIA', 'STS', 'FAT', 'RAP', 'MRY', 'HSV', 'BIS', 'DAY', 'BZN', 'MIA', 'EYW', 'MYR', 'HHH', 'GJT', 'FAR', 'MLU', 'LRD', 'CLL', 'LCH', 'FWA', 'GRK', 'SGF', 'HOB', 'LAW', 'MHK', 'SAF', 'JLN', 'ROW', 'GRI', 'AEX', 'CRW', 'LAN', 'ERI', 'HNL', 'KOA', 'OGG', 'EGE', 'LIH', 'JAC', 'MLB', 'RDM', 'BET', 'ADQ', 'BRW', 'SCC', 'FAI', 'JNU', 'CDV', 'YAK', 'SIT', 'KTN', 'WRG', 'PSG', 'OME', 'OTZ', 'ADK', 'FCA', 'BIL', 'PSC', 'FAY', 'MSO', 'ITO', 'PPG', 'MFR', 'DLH', 'EUG', 'GUM', 'SPN', 'TTN', 'BKG', 'AZA', 'SFB', 'LCK', 'BLI', 'SCK', 'PIE', 'RFD', 'PVU', 'PBG', 'BLV', 'PGD', 'SPI', 'USA', 'TOL', 'IDA', 'ELM', 'HTS', 'HGR', 'SMX', 'OGD', 'GFK', 'STC', 'GTF', 'IAG', 'CKB', 'OWB', 'PSM', 'ABI', 'TYR', 'ALO', 'SUX', 'AZO', 'ACT', 'CMI', 'BPT', 'TXK', 'SWO', 'SPS', 'DBQ', 'SJT', 'GGG', 'LSE', 'MQT', 'GCK', 'LBE', 'ACY', 'LYH', 'PGV', 'HVN', 'EWN', 'DHN', 'PIH', 'WYS', 'SCE', 'IMT', 'HLN', 'ASE', 'SUN', 'ISN', 'EAR', 'SGU', 'VEL', 'SHD', 'LWB', 'MKG', 'SLN', 'HYS', 'BFF', 'PUB', 'LBL', 'CMX', 'EAU', 'PAH', 'UIN', 'RKS', 'CGI', 'CNY', 'JMS', 'DVL', 'LAR', 'GCC', 'LBF', 'PRC', 'RDD', 'ACV', 'OTH', 'COD', 'LWS', 'ABR', 'APN', 'PLN', 'BJI', 'CPR', 'BRD', 'BTM', 'CDC', 'CIU', 'ESC', 'EKO', 'ITH', 'HIB', 'BGM', 'TWF', 'RHI', 'INL', 'FLG', 'YUM', 'MEI', 'PIB', 'HDN']\n"
     ]
    }
   ],
   "source": [
    "# Number of rows and columns in the dataset\n",
    "num_rows, num_columns = df_temp.shape\n",
    "\n",
    "# Years in the dataset\n",
    "years = df_temp['Year'].unique()\n",
    "\n",
    "# Date range\n",
    "date_range = (df_temp['FlightDate'].min(), df_temp['FlightDate'].max())\n",
    "\n",
    "# Airlines in the dataset\n",
    "airlines = df_temp['Reporting_Airline'].unique()\n",
    "\n",
    "# Origin and destination airports\n",
    "origin_airports = df_temp['Origin'].unique()\n",
    "destination_airports = df_temp['Dest'].unique()\n",
    "\n",
    "# Print the answers\n",
    "print(\"The #rows and #columns are\", num_rows, \"and\", num_columns,'\\n')\n",
    "print(\"The years in this dataset are:\", list(years),'\\n')\n",
    "print(\"The months covered in this dataset are:\", sorted(df_temp['Month'].unique()),'\\n')\n",
    "print(\"The date range for data is:\", date_range[0], \"to\", date_range[1],'\\n')\n",
    "print(\"The airlines covered in this dataset are:\", list(airlines),'\\n')\n",
    "print(\"The Origin airports covered are:\", list(origin_airports),'\\n')\n",
    "print(\"The Destination airports covered are:\", list(destination_airports))\n"
   ]
  },
  {
   "cell_type": "markdown",
   "metadata": {},
   "source": [
    "**Question**: What is the count of all the origin and destination airports?\n",
    "\n",
    "**Hint**: You can use the Pandas `values_count` function ([documentation](https://pandas.pydata.org/pandas-docs/stable/reference/api/pandas.Series.value_counts.html)) to find out the values for each airport using the columns `Origin` and `Dest`."
   ]
  },
  {
   "cell_type": "code",
   "execution_count": 13,
   "metadata": {
    "scrolled": true
   },
   "outputs": [
    {
     "name": "stdout",
     "output_type": "stream",
     "text": [
      "     Origin  Destination\n",
      "ABE     303          303\n",
      "ABI     169          169\n",
      "ABQ    2077         2076\n",
      "ABR      60           60\n",
      "ABY      79           79\n",
      "..      ...          ...\n",
      "WRG      60           60\n",
      "WYS      52           52\n",
      "XNA    1004         1004\n",
      "YAK      60           60\n",
      "YUM      96           96\n",
      "\n",
      "[346 rows x 2 columns]\n"
     ]
    }
   ],
   "source": [
    "# Count of origin airports\n",
    "origin_counts = df_temp['Origin'].value_counts()\n",
    "\n",
    "# Count of destination airports\n",
    "dest_counts = df_temp['Dest'].value_counts()\n",
    "\n",
    "# Create a DataFrame with counts\n",
    "counts = pd.DataFrame({'Origin': origin_counts, 'Destination': dest_counts})\n",
    "\n",
    "# Display the counts\n",
    "print(counts)\n"
   ]
  },
  {
   "cell_type": "markdown",
   "metadata": {},
   "source": [
    "**Question**: Print the top 15 origin and destination airports based on number of flights in the dataset.\n",
    "\n",
    "**Hint**: You can use the Pandas `sort_values` function ([documentation](https://pandas.pydata.org/pandas-docs/stable/reference/api/pandas.DataFrame.sort_values.html))."
   ]
  },
  {
   "cell_type": "code",
   "execution_count": 14,
   "metadata": {},
   "outputs": [
    {
     "name": "stdout",
     "output_type": "stream",
     "text": [
      "Top 15 Origin Airports:\n",
      "     Origin  Destination\n",
      "ATL   31525        31521\n",
      "ORD   28257        28250\n",
      "DFW   22802        22795\n",
      "DEN   19807        19807\n",
      "CLT   19655        19654\n",
      "LAX   17875        17873\n",
      "SFO   14332        14348\n",
      "IAH   14210        14203\n",
      "LGA   13850        13850\n",
      "MSP   13349        13347\n",
      "LAS   13318        13322\n",
      "PHX   13126        13128\n",
      "DTW   12725        12724\n",
      "BOS   12223        12227\n",
      "SEA   11872        11877\n",
      "\n",
      "Top 15 Destination Airports:\n",
      "     Origin  Destination\n",
      "ATL   31525        31521\n",
      "ORD   28257        28250\n",
      "DFW   22802        22795\n",
      "DEN   19807        19807\n",
      "CLT   19655        19654\n",
      "LAX   17875        17873\n",
      "SFO   14332        14348\n",
      "IAH   14210        14203\n",
      "LGA   13850        13850\n",
      "MSP   13349        13347\n",
      "LAS   13318        13322\n",
      "PHX   13126        13128\n",
      "DTW   12725        12724\n",
      "BOS   12223        12227\n",
      "SEA   11872        11877\n"
     ]
    }
   ],
   "source": [
    "# Sort the counts DataFrame by the 'Origin' column in descending order\n",
    "top_origin_airports = counts.sort_values(by='Origin', ascending=False).head(15)\n",
    "\n",
    "# Sort the counts DataFrame by the 'Destination' column in descending order\n",
    "top_destination_airports = counts.sort_values(by='Destination', ascending=False).head(15)\n",
    "\n",
    "# Print the top 15 origin and destination airports\n",
    "print(\"Top 15 Origin Airports:\")\n",
    "print(top_origin_airports)\n",
    "\n",
    "print(\"\\nTop 15 Destination Airports:\")\n",
    "print(top_destination_airports)\n"
   ]
  },
  {
   "cell_type": "markdown",
   "metadata": {},
   "source": [
    "**Question**: Given all the information about a flight trip, can you predict if it would be delayed?"
   ]
  },
  {
   "cell_type": "markdown",
   "metadata": {},
   "source": [
    "-> Given the provided dataset containing information about flight trips, we can certainly build a predictive model to assess the likelihood of a flight being delayed. To do so, we would use machine learning techniques to analyze historical data, taking into account factors such as the year, month, day of the week, airline, origin and destination airports, scheduled departure time, departure delays, cancellations, diversions, distance, and other relevant features.\n",
    "\n",
    "The model would aim to predict whether a flight is likely to be delayed, providing valuable insights for travelers like you who want to plan their trips and reservations effectively. However, it's important to note that the accuracy of such predictions may vary, and real-time factors such as weather conditions can impact flight delays.\n",
    "\n",
    "In summary, while we can create predictive models based on historical data, the actual occurrence of flight delays can depend on dynamic and real-time factors. Such models can provide valuable insights but may not guarantee absolute accuracy in predicting individual flight delays."
   ]
  },
  {
   "cell_type": "markdown",
   "metadata": {},
   "source": [
    "Now, assume you are traveling from San Francisco to Los Angeles on a work trip. You want to have an ideas if your flight will be delayed, given a set of features, so that you can manage your reservations in Los Angeles better. How many features from this dataset would you know before your flight?\n",
    "\n",
    "Columns such as `DepDelay`, `ArrDelay`, `CarrierDelay`, `WeatherDelay`, `NASDelay`, `SecurityDelay`, `LateAircraftDelay`, and `DivArrDelay` contain information about a delay. But this delay could have occured at the origin or destination. If there were a sudden weather delay 10 minutes before landing, this data would not be helpful in managing your Los Angeles reservations.\n",
    "\n",
    "So to simplify the problem statement, consider the following columns to predict an arrival delay:<br>\n",
    "\n",
    "`Year`, `Quarter`, `Month`, `DayofMonth`, `DayOfWeek`, `FlightDate`, `Reporting_Airline`, `Origin`, `OriginState`, `Dest`, `DestState`, `CRSDepTime`, `DepDelayMinutes`, `DepartureDelayGroups`, `Cancelled`, `Diverted`, `Distance`, `DistanceGroup`, `ArrDelay`, `ArrDelayMinutes`, `ArrDel15`, `AirTime`\n",
    "\n",
    "You will also filter the source and destination airports to be:\n",
    "- Top airports: ATL, ORD, DFW, DEN, CLT, LAX, IAH, PHX, SFO\n",
    "- Top 5 airlines: UA, OO, WN, AA, DL\n",
    "\n",
    "This should help in reducing the size of data across the CSV files to be combined."
   ]
  },
  {
   "cell_type": "markdown",
   "metadata": {},
   "source": [
    "#### Combine all CSV files\n",
    "\n",
    "**Hint**:  \n",
    "First, create an empy dataframe that you will use to copy your individual dataframes from each file. Then, for each file in the `csv_files` list:\n",
    "\n",
    "1. Read the CSV file into a dataframe  \n",
    "2. Filter the columns based on the `filter_cols` variable\n",
    "\n",
    "```\n",
    "        columns = ['col1', 'col2']\n",
    "        df_filter = df[columns]\n",
    "```\n",
    "\n",
    "3. Keep only the subset_vals in each of the subset_cols. Use the `isin` Pandas function ([documentation](https://pandas.pydata.org/pandas-docs/stable/reference/api/pandas.DataFrame.isin.html)) to check if the `val` is in the dataframe column and then choose the rows that include it.\n",
    "\n",
    "```\n",
    "        df_eg[df_eg['col1'].isin('5')]\n",
    "```\n",
    "\n",
    "4. Concatenate the dataframe with the empty dataframe "
   ]
  },
  {
   "cell_type": "code",
   "execution_count": 15,
   "metadata": {},
   "outputs": [
    {
     "name": "stdout",
     "output_type": "stream",
     "text": [
      "CSV files merged in 2.84 minutes\n",
      "Combined data saved to ./data/data_extracted/combined_files.csv\n"
     ]
    }
   ],
   "source": [
    "import pandas as pd\n",
    "import os\n",
    "import time\n",
    "\n",
    "# Define the base path\n",
    "base_path = './data/data_extracted/csv/'\n",
    "\n",
    "# List all the CSV files in the directory\n",
    "csv_files = [os.path.join(base_path, file) for file in os.listdir(base_path) if file.endswith('.csv')]\n",
    "\n",
    "# Define columns to predict Arrival Delay\n",
    "cols = ['Year', 'Quarter', 'Month', 'DayofMonth', 'DayOfWeek', 'FlightDate',\n",
    "        'Reporting_Airline', 'Origin', 'OriginState', 'Dest', 'DestState',\n",
    "        'CRSDepTime', 'Cancelled', 'Diverted', 'Distance', 'DistanceGroup',\n",
    "        'ArrDelay', 'ArrDelayMinutes', 'ArrDel15', 'AirTime']\n",
    "\n",
    "# Define subset columns and values\n",
    "subset_cols = ['Origin', 'Dest', 'Reporting_Airline']\n",
    "\n",
    "subset_vals = [['ATL', 'ORD', 'DFW', 'DEN', 'CLT', 'LAX', 'IAH', 'PHX', 'SFO'],\n",
    "               ['ATL', 'ORD', 'DFW', 'DEN', 'CLT', 'LAX', 'IAH', 'PHX', 'SFO'],\n",
    "               ['UA', 'OO', 'WN', 'AA', 'DL']]\n",
    "\n",
    "# Create an empty dataframe to store the combined data\n",
    "combined_df = pd.DataFrame(columns=cols)\n",
    "\n",
    "# Function to combine and filter CSV files\n",
    "def combine_csv(csv_files, filter_cols, subset_cols, subset_vals):\n",
    "    combined_df = pd.DataFrame(columns=filter_cols)  # Initialize an empty dataframe\n",
    "    for file in csv_files:\n",
    "        # Read the CSV file into a dataframe\n",
    "        df = pd.read_csv(file)\n",
    "        \n",
    "        # Filter columns\n",
    "        df = df[filter_cols]\n",
    "        \n",
    "        # Apply subset filtering\n",
    "        for i, col in enumerate(subset_cols):\n",
    "            df = df[df[col].isin(subset_vals[i])]\n",
    "        \n",
    "        # Concatenate with the combined dataframe\n",
    "        combined_df = pd.concat([combined_df, df], ignore_index=True)\n",
    "    \n",
    "    return combined_df\n",
    "\n",
    "# Combine CSV files and apply filtering\n",
    "start = time.time()\n",
    "combined_df = combine_csv(csv_files, cols, subset_cols, subset_vals)\n",
    "print(f'CSV files merged in {round((time.time() - start)/60, 2)} minutes')\n",
    "\n",
    "# Save the combined dataframe to a CSV file\n",
    "\n",
    "csv_path = './data/data_extracted/'\n",
    "combined_csv_filename = os.path.join(csv_path, 'combined_files.csv')\n",
    "combined_df.to_csv(combined_csv_filename, index=False)\n",
    "print(f'Combined data saved to {combined_csv_filename}')\n"
   ]
  },
  {
   "cell_type": "markdown",
   "metadata": {},
   "source": [
    "Use the function above to merge all the different files into a single file that you can read easily. \n",
    "\n",
    "**Note**: This will take 5-7 minutes to complete."
   ]
  },
  {
   "cell_type": "markdown",
   "metadata": {},
   "source": [
    "#### Load dataset\n",
    "\n",
    "Load the combined dataset."
   ]
  },
  {
   "cell_type": "code",
   "execution_count": 16,
   "metadata": {},
   "outputs": [],
   "source": [
    "Combined_data = pd.read_csv(combined_csv_filename)# Code to read the combined csv file."
   ]
  },
  {
   "cell_type": "markdown",
   "metadata": {},
   "source": [
    "Print the first 5 records."
   ]
  },
  {
   "cell_type": "code",
   "execution_count": 17,
   "metadata": {},
   "outputs": [
    {
     "name": "stdout",
     "output_type": "stream",
     "text": [
      "   Year  Quarter  Month  DayofMonth  DayOfWeek  FlightDate Reporting_Airline  \\\n",
      "0  2014        4     10           1          3  2014-10-01                AA   \n",
      "1  2014        4     10           2          4  2014-10-02                AA   \n",
      "2  2014        4     10           3          5  2014-10-03                AA   \n",
      "3  2014        4     10           4          6  2014-10-04                AA   \n",
      "4  2014        4     10           5          7  2014-10-05                AA   \n",
      "\n",
      "  Origin OriginState Dest DestState  CRSDepTime  Cancelled  Diverted  \\\n",
      "0    DFW          TX  SFO        CA         755        0.0       0.0   \n",
      "1    DFW          TX  SFO        CA         755        0.0       0.0   \n",
      "2    DFW          TX  SFO        CA         755        0.0       0.0   \n",
      "3    DFW          TX  SFO        CA         755        0.0       0.0   \n",
      "4    DFW          TX  SFO        CA         755        0.0       0.0   \n",
      "\n",
      "   Distance  DistanceGroup  ArrDelay  ArrDelayMinutes  ArrDel15  AirTime  \n",
      "0    1464.0              6      -9.0              0.0       0.0    195.0  \n",
      "1    1464.0              6      40.0             40.0       1.0    199.0  \n",
      "2    1464.0              6       9.0              9.0       0.0    196.0  \n",
      "3    1464.0              6     -16.0              0.0       0.0    195.0  \n",
      "4    1464.0              6      -8.0              0.0       0.0    192.0  \n"
     ]
    }
   ],
   "source": [
    "print(Combined_data.head())"
   ]
  },
  {
   "cell_type": "markdown",
   "metadata": {},
   "source": [
    "Here are some more questions to help you find out more about your dataset.\n",
    "\n",
    "**Questions**   \n",
    "1. How many rows and columns does the dataset have?   \n",
    "2. How many years are included in the dataset?   \n",
    "3. What is the date range for the dataset?   \n",
    "4. Which airlines are included in the dataset?   \n",
    "5. Which origin and destination airports are covered?"
   ]
  },
  {
   "cell_type": "code",
   "execution_count": 18,
   "metadata": {},
   "outputs": [
    {
     "name": "stdout",
     "output_type": "stream",
     "text": [
      "The #rows and #columns are  1658130  and  20\n",
      "The years in this dataset are:  [2014 2017 2018 2015 2016]\n",
      "The months covered in this dataset are:  [1, 2, 3, 4, 5, 6, 7, 8, 9, 10, 11, 12]\n",
      "The date range for data is : 2014-01-01  to  2018-12-31\n",
      "The airlines covered in this dataset are:  ['AA' 'DL' 'WN' 'UA' 'OO']\n",
      "The Origin airports covered are:  ['DFW' 'SFO' 'DEN' 'PHX' 'IAH' 'ATL' 'ORD' 'LAX' 'CLT']\n",
      "The Destination airports covered are:  ['SFO' 'DFW' 'DEN' 'PHX' 'ORD' 'IAH' 'ATL' 'LAX' 'CLT']\n"
     ]
    }
   ],
   "source": [
    "# Number of rows and columns\n",
    "num_rows, num_columns = Combined_data.shape\n",
    "\n",
    "# List of unique years in the dataset\n",
    "unique_years = Combined_data['Year'].unique()\n",
    "\n",
    "# List of unique months in the dataset\n",
    "unique_months = Combined_data['Month'].unique()\n",
    "\n",
    "# Date range\n",
    "date_range = (Combined_data['FlightDate'].min(), Combined_data['FlightDate'].max())\n",
    "\n",
    "# List of unique airlines\n",
    "unique_airlines = Combined_data['Reporting_Airline'].unique()\n",
    "\n",
    "# List of unique origin airports\n",
    "unique_origin_airports = Combined_data['Origin'].unique()\n",
    "\n",
    "# List of unique destination airports\n",
    "unique_destination_airports = Combined_data['Dest'].unique()\n",
    "\n",
    "# Printing the answers\n",
    "print(\"The #rows and #columns are \", num_rows, \" and \", num_columns)\n",
    "print(\"The years in this dataset are: \", unique_years)\n",
    "print(\"The months covered in this dataset are: \", sorted(unique_months))\n",
    "print(\"The date range for data is :\", date_range[0], \" to \", date_range[1])\n",
    "print(\"The airlines covered in this dataset are: \", unique_airlines)\n",
    "print(\"The Origin airports covered are: \", unique_origin_airports)\n",
    "print(\"The Destination airports covered are: \", unique_destination_airports)\n"
   ]
  },
  {
   "cell_type": "markdown",
   "metadata": {},
   "source": [
    "Let's define our **target column : is_delay** (1 - if arrival time delayed more than 15 minutes, 0 - otherwise). Use the `rename` method to rename the column from `ArrDel15` to `is_delay`.\n",
    "\n",
    "**Hint**: You can use the Pandas `rename` function ([documentation](https://pandas.pydata.org/pandas-docs/stable/reference/api/pandas.DataFrame.rename.html)).\n",
    "\n",
    "For example:\n",
    "```\n",
    "df.rename(columns={'col1':'column1'}, inplace=True)\n",
    "```"
   ]
  },
  {
   "cell_type": "code",
   "execution_count": 19,
   "metadata": {},
   "outputs": [
    {
     "name": "stdout",
     "output_type": "stream",
     "text": [
      "Columns Before rename: Index(['Year', 'Quarter', 'Month', 'DayofMonth', 'DayOfWeek', 'FlightDate',\n",
      "       'Reporting_Airline', 'Origin', 'OriginState', 'Dest', 'DestState',\n",
      "       'CRSDepTime', 'Cancelled', 'Diverted', 'Distance', 'DistanceGroup',\n",
      "       'ArrDelay', 'ArrDelayMinutes', 'ArrDel15', 'AirTime'],\n",
      "      dtype='object') \n",
      "\n",
      "Columns after rename: Index(['Year', 'Quarter', 'Month', 'DayofMonth', 'DayOfWeek', 'FlightDate',\n",
      "       'Reporting_Airline', 'Origin', 'OriginState', 'Dest', 'DestState',\n",
      "       'CRSDepTime', 'Cancelled', 'Diverted', 'Distance', 'DistanceGroup',\n",
      "       'ArrDelay', 'ArrDelayMinutes', 'is_delay', 'AirTime'],\n",
      "      dtype='object')\n"
     ]
    }
   ],
   "source": [
    "# Rename the ArrDel15 column to is_delay\n",
    "print(\"Columns Before rename:\", Combined_data.columns,\"\\n\")\n",
    "Combined_data.rename(columns={'ArrDel15': 'is_delay'}, inplace=True)\n",
    "print(\"Columns after rename:\", Combined_data.columns)"
   ]
  },
  {
   "cell_type": "markdown",
   "metadata": {},
   "source": [
    "Look for nulls across columns. You can use the `isnull()` function ([documentation](https://pandas.pydata.org/pandas-docs/version/0.17.0/generated/pandas.isnull.html)).\n",
    "\n",
    "**Hint**: `isnull()` detects whether the particular value is null or not and gives you a boolean (True or False) in its place. Use the `sum(axis=0)` function to sum up the number of columns."
   ]
  },
  {
   "cell_type": "code",
   "execution_count": 20,
   "metadata": {},
   "outputs": [
    {
     "name": "stdout",
     "output_type": "stream",
     "text": [
      "Null counts in each column:\n",
      "Year                     0\n",
      "Quarter                  0\n",
      "Month                    0\n",
      "DayofMonth               0\n",
      "DayOfWeek                0\n",
      "FlightDate               0\n",
      "Reporting_Airline        0\n",
      "Origin                   0\n",
      "OriginState              0\n",
      "Dest                     0\n",
      "DestState                0\n",
      "CRSDepTime               0\n",
      "Cancelled                0\n",
      "Diverted                 0\n",
      "Distance                 0\n",
      "DistanceGroup            0\n",
      "ArrDelay             22540\n",
      "ArrDelayMinutes      22540\n",
      "is_delay             22540\n",
      "AirTime              22540\n",
      "dtype: int64\n"
     ]
    }
   ],
   "source": [
    "# Check for null values in each column and sum them up\n",
    "null_counts = Combined_data.isnull().sum(axis=0)\n",
    "\n",
    "# Display the count of null values in each column\n",
    "print(\"Null counts in each column:\")\n",
    "print(null_counts)\n"
   ]
  },
  {
   "cell_type": "markdown",
   "metadata": {},
   "source": [
    "The arrival delay details and airtime are missing for 22540 out of 1658130 rows, which is 1.3%. You can either remove or impute these rows. The documentation does not mention anything about missing rows.\n",
    "\n",
    "**Hint**: Use the `~` operator to choose the values that aren't null from the `isnull()` output.\n",
    "\n",
    "For example:\n",
    "```\n",
    "null_eg = df_eg[~df_eg['column_name'].isnull()]\n",
    "```"
   ]
  },
  {
   "cell_type": "code",
   "execution_count": 21,
   "metadata": {},
   "outputs": [
    {
     "name": "stdout",
     "output_type": "stream",
     "text": [
      "Rows with missing values removed. 1.4% of rows removed.\n"
     ]
    }
   ],
   "source": [
    "### Remove null columns\n",
    "data = Combined_data.dropna(subset=['ArrDelay','ArrDelayMinutes','is_delay', 'AirTime'])\n",
    "\n",
    "# Calculate the percentage of rows removed\n",
    "percentage_removed = (1 - (len(data) / len(Combined_data))) * 100\n",
    "\n",
    "print(f\"Rows with missing values removed. {percentage_removed:.1f}% of rows removed.\")\n"
   ]
  },
  {
   "cell_type": "markdown",
   "metadata": {},
   "source": [
    "Get the hour of the day in 24-hour time format from CRSDepTime."
   ]
  },
  {
   "cell_type": "code",
   "execution_count": 22,
   "metadata": {},
   "outputs": [],
   "source": [
    "# Extracting the hour from CRSDepTime by dividing by 100 to get the hour in 24-hour format\n",
    "data['DepHourofDay'] = data['CRSDepTime'] // 100"
   ]
  },
  {
   "cell_type": "markdown",
   "metadata": {},
   "source": [
    "## **The ML problem statement**\n",
    "- Given a set of features, can you predict if a flight is going to be delayed more than 15 minutes?\n",
    "- Because the target variable takes only 0/1 value, you could use a classification algorithm. "
   ]
  },
  {
   "cell_type": "markdown",
   "metadata": {},
   "source": [
    "### Data exploration\n",
    "\n",
    "#### Check class delay vs. no delay\n",
    "\n",
    "**Hint**: Use a `groupby` plot ([documentation](https://pandas.pydata.org/pandas-docs/stable/reference/api/pandas.DataFrame.groupby.html)) with a `bar` plot ([documentation](https://matplotlib.org/tutorials/introductory/pyplot.html)) to plot the frequency vs. distribution of the class."
   ]
  },
  {
   "cell_type": "code",
   "execution_count": 23,
   "metadata": {},
   "outputs": [
    {
     "data": {
      "image/png": "[encoded data removed]",
      "text/plain": [
       "<Figure size 640x480 with 1 Axes>"
      ]
     },
     "metadata": {},
     "output_type": "display_data"
    }
   ],
   "source": [
    "import matplotlib.pyplot as plt\n",
    "\n",
    "# Group the data by the 'is_delay' column and calculate the frequency\n",
    "class_distribution = (data.groupby('is_delay').size() / len(data)).plot(kind='bar')\n",
    "\n",
    "# Add labels and title to the plot\n",
    "plt.ylabel('Frequency')\n",
    "plt.title('Distribution of Classes (Delayed vs. Not Delayed)')\n",
    "plt.xticks([0, 1], ['Not Delayed', 'Delayed'], rotation=0)\n",
    "\n",
    "# Show the plot\n",
    "plt.show()\n"
   ]
  },
  {
   "cell_type": "markdown",
   "metadata": {},
   "source": [
    "**Question**: What can you deduce from the bar plot about the ratio of delay vs. no delay?"
   ]
  },
  {
   "cell_type": "markdown",
   "metadata": {},
   "source": [
    "###### From the bar plot, we can deduce the following about the ratio of delay vs. no delay:\n",
    "\n",
    "###### The majority of the data points fall under the \"Not Delayed\" category.\n",
    "###### The frequency of \"Not Delayed\" occurrences is approximately 3 times higher than the \"Delayed\" occurrences.\n",
    "###### The \"Delayed\" category represents a significantly smaller proportion of the data compared to the \"Not Delayed\" category.\n",
    "###### In summary, there are significantly more instances that are not delayed compared to those that are delayed."
   ]
  },
  {
   "cell_type": "markdown",
   "metadata": {},
   "source": [
    "**Questions**: \n",
    "\n",
    "- Which months have the most delays?\n",
    "- What time of the day has the most delays?\n",
    "- What day of the week has the most delays?\n",
    "- Which airline has the most delays?\n",
    "- Which origin and destination airports have the most delays?\n",
    "- Is flight distance a factor in the delays?"
   ]
  },
  {
   "cell_type": "code",
   "execution_count": 24,
   "metadata": {
    "scrolled": false
   },
   "outputs": [
    {
     "data": {
      "image/png": "[encoded data removed]",
      "text/plain": [
       "<Figure size 2000x2000 with 6 Axes>"
      ]
     },
     "metadata": {},
     "output_type": "display_data"
    }
   ],
   "source": [
    "viz_columns = ['Month', 'DepHourofDay', 'DayOfWeek', 'Reporting_Airline', 'Origin', 'Dest']\n",
    "fig, axes = plt.subplots(3, 2, figsize=(20,20), squeeze=False)\n",
    "# fig.autofmt_xdate(rotation=90)\n",
    "\n",
    "for idx, column in enumerate(viz_columns):\n",
    "    ax = axes[idx//2, idx%2]\n",
    "    temp = data.groupby(column)['is_delay'].value_counts(normalize=True).rename('percentage').\\\n",
    "    mul(100).reset_index().sort_values(column)\n",
    "    sns.barplot(x=column, y=\"percentage\", hue=\"is_delay\", data=temp, ax=ax)\n",
    "    plt.ylabel('% delay/no-delay')\n",
    "    \n",
    "\n",
    "plt.show()"
   ]
  },
  {
   "cell_type": "code",
   "execution_count": 25,
   "metadata": {},
   "outputs": [
    {
     "data": {
      "image/png": "[encoded data removed]",
      "text/plain": [
       "<Figure size 500x500 with 1 Axes>"
      ]
     },
     "metadata": {},
     "output_type": "display_data"
    }
   ],
   "source": [
    "sns.lmplot( x=\"is_delay\", y=\"Distance\", data=data, fit_reg=False, hue='is_delay', legend=False)\n",
    "plt.legend(loc='center')\n",
    "plt.xlabel('is_delay')\n",
    "plt.ylabel('Distance')\n",
    "plt.show()"
   ]
  },
  {
   "cell_type": "markdown",
   "metadata": {},
   "source": [
    "Based on the above figures, enter your answers to the above questions here and turn the cell type to markdown\n",
    "\n",
    "1) Which months have the most delays?\n",
    "\n",
    "-> The graph shows that all months have roughly similar percentages of delays, but it appears that the months of June, July, and December have slightly higher delay percentages compared to other months.\n",
    "\n",
    "2) What time of the day has the most delays?\n",
    "\n",
    "-> The graph for 'DepHourOfDay' (Departure Hour of Day) shows considerable variation. Late night (around 23:00) and early morning hours (around 4:00-5:00) have higher percentages of delays. Hours between 8:00 to 20:00 have more consistent delay patterns.\n",
    "\n",
    "3) What day of the week has the most delays?\n",
    "\n",
    "-> Delays are quite consistent across days of the week, but it seems that Day 4 (which might correspond to Wednesday or Thursday depending on the dataset) has a slightly higher percentage of delays compared to other days.\n",
    "\n",
    "4) Which airline has the most delays?\n",
    "\n",
    "-> The 'Reporting_Airline' graph indicates that OO airline has the highest percentage of delays, followed by WN. AA, DL, and UA have comparatively lower delay percentages.\n",
    "\n",
    "5) Which origin and destination airports have the most delays?\n",
    "\n",
    "-> For origin airports, IAH, LAX, and ORD seem to have slightly higher delay percentages compared to other airports.\n",
    "For destination airports, the pattern is similar with IAH, LAX, and ORD having higher delay percentages.\n",
    "\n",
    "6) Is flight distance a factor in the delays?\n",
    "\n",
    "-> The scatter plot shows flights with both short and long distances experience delays. However, there's no clear trend indicating that distance is a major factor in determining delays. Both short-distance and long-distance flights have instances of delays (is_delay = 1.0) and no-delays (is_delay = 0.0).\n"
   ]
  },
  {
   "cell_type": "markdown",
   "metadata": {},
   "source": [
    "### Features\n",
    "\n",
    "Look at all the columns and what their specific types are."
   ]
  },
  {
   "cell_type": "code",
   "execution_count": 26,
   "metadata": {
    "scrolled": true
   },
   "outputs": [
    {
     "data": {
      "text/plain": [
       "Index(['Year', 'Quarter', 'Month', 'DayofMonth', 'DayOfWeek', 'FlightDate',\n",
       "       'Reporting_Airline', 'Origin', 'OriginState', 'Dest', 'DestState',\n",
       "       'CRSDepTime', 'Cancelled', 'Diverted', 'Distance', 'DistanceGroup',\n",
       "       'ArrDelay', 'ArrDelayMinutes', 'is_delay', 'AirTime', 'DepHourofDay'],\n",
       "      dtype='object')"
      ]
     },
     "execution_count": 26,
     "metadata": {},
     "output_type": "execute_result"
    }
   ],
   "source": [
    "data.columns"
   ]
  },
  {
   "cell_type": "code",
   "execution_count": 27,
   "metadata": {},
   "outputs": [
    {
     "data": {
      "text/plain": [
       "Year                   int64\n",
       "Quarter                int64\n",
       "Month                  int64\n",
       "DayofMonth             int64\n",
       "DayOfWeek              int64\n",
       "FlightDate            object\n",
       "Reporting_Airline     object\n",
       "Origin                object\n",
       "OriginState           object\n",
       "Dest                  object\n",
       "DestState             object\n",
       "CRSDepTime             int64\n",
       "Cancelled            float64\n",
       "Diverted             float64\n",
       "Distance             float64\n",
       "DistanceGroup          int64\n",
       "ArrDelay             float64\n",
       "ArrDelayMinutes      float64\n",
       "is_delay             float64\n",
       "AirTime              float64\n",
       "DepHourofDay           int64\n",
       "dtype: object"
      ]
     },
     "execution_count": 27,
     "metadata": {},
     "output_type": "execute_result"
    }
   ],
   "source": [
    "data.dtypes"
   ]
  },
  {
   "cell_type": "markdown",
   "metadata": {},
   "source": [
    "Filtering the required columns:\n",
    "- Date is redundant, because you have Year, Quarter, Month, DayofMonth, and DayOfWeek to describe the date.\n",
    "- Use Origin and Dest codes instead of OriginState and DestState.\n",
    "- Because you are just classifying whether the flight is delayed or not, you don't need TotalDelayMinutes, DepDelayMinutes, and ArrDelayMinutes.\n",
    "\n",
    "Treat DepHourofDay as a categorical variable because it doesn't have any quantitative relation with the target.\n",
    "- If you had to do a one-hot encoding of it, it would result in 23 more columns.\n",
    "- Other alternatives to handling categorical variables include hash encoding, regularized mean encoding, and bucketizing the values, among others.\n",
    "- Just split into buckets here.\n",
    "\n",
    "**Hint**: To change a column type to category, use the `astype` function ([documentation](https://pandas.pydata.org/pandas-docs/stable/reference/api/pandas.DataFrame.astype.html))."
   ]
  },
  {
   "cell_type": "code",
   "execution_count": 28,
   "metadata": {},
   "outputs": [],
   "source": [
    "data_orig = data.copy()\n",
    "data = data[[ 'is_delay', 'Quarter', 'Month', 'DayofMonth', 'DayOfWeek', \n",
    "       'Reporting_Airline', 'Origin', 'Dest','Distance','DepHourofDay']]\n",
    "categorical_columns  = ['Quarter', 'Month', 'DayofMonth', 'DayOfWeek', \n",
    "       'Reporting_Airline', 'Origin', 'Dest', 'DepHourofDay']\n",
    "for c in categorical_columns:\n",
    "    data[c] = data[c].astype('category')# Enter your code here"
   ]
  },
  {
   "cell_type": "code",
   "execution_count": 29,
   "metadata": {},
   "outputs": [
    {
     "data": {
      "text/html": [
       "<div>\n",
       "<style scoped>\n",
       "    .dataframe tbody tr th:only-of-type {\n",
       "        vertical-align: middle;\n",
       "    }\n",
       "\n",
       "    .dataframe tbody tr th {\n",
       "        vertical-align: top;\n",
       "    }\n",
       "\n",
       "    .dataframe thead th {\n",
       "        text-align: right;\n",
       "    }\n",
       "</style>\n",
       "<table border=\"1\" class=\"dataframe\">\n",
       "  <thead>\n",
       "    <tr style=\"text-align: right;\">\n",
       "      <th></th>\n",
       "      <th>Year</th>\n",
       "      <th>Quarter</th>\n",
       "      <th>Month</th>\n",
       "      <th>DayofMonth</th>\n",
       "      <th>DayOfWeek</th>\n",
       "      <th>FlightDate</th>\n",
       "      <th>Reporting_Airline</th>\n",
       "      <th>Origin</th>\n",
       "      <th>OriginState</th>\n",
       "      <th>Dest</th>\n",
       "      <th>...</th>\n",
       "      <th>CRSDepTime</th>\n",
       "      <th>Cancelled</th>\n",
       "      <th>Diverted</th>\n",
       "      <th>Distance</th>\n",
       "      <th>DistanceGroup</th>\n",
       "      <th>ArrDelay</th>\n",
       "      <th>ArrDelayMinutes</th>\n",
       "      <th>is_delay</th>\n",
       "      <th>AirTime</th>\n",
       "      <th>DepHourofDay</th>\n",
       "    </tr>\n",
       "  </thead>\n",
       "  <tbody>\n",
       "    <tr>\n",
       "      <th>0</th>\n",
       "      <td>2014</td>\n",
       "      <td>4</td>\n",
       "      <td>10</td>\n",
       "      <td>1</td>\n",
       "      <td>3</td>\n",
       "      <td>2014-10-01</td>\n",
       "      <td>AA</td>\n",
       "      <td>DFW</td>\n",
       "      <td>TX</td>\n",
       "      <td>SFO</td>\n",
       "      <td>...</td>\n",
       "      <td>755</td>\n",
       "      <td>0.0</td>\n",
       "      <td>0.0</td>\n",
       "      <td>1464.0</td>\n",
       "      <td>6</td>\n",
       "      <td>-9.0</td>\n",
       "      <td>0.0</td>\n",
       "      <td>0.0</td>\n",
       "      <td>195.0</td>\n",
       "      <td>7</td>\n",
       "    </tr>\n",
       "    <tr>\n",
       "      <th>1</th>\n",
       "      <td>2014</td>\n",
       "      <td>4</td>\n",
       "      <td>10</td>\n",
       "      <td>2</td>\n",
       "      <td>4</td>\n",
       "      <td>2014-10-02</td>\n",
       "      <td>AA</td>\n",
       "      <td>DFW</td>\n",
       "      <td>TX</td>\n",
       "      <td>SFO</td>\n",
       "      <td>...</td>\n",
       "      <td>755</td>\n",
       "      <td>0.0</td>\n",
       "      <td>0.0</td>\n",
       "      <td>1464.0</td>\n",
       "      <td>6</td>\n",
       "      <td>40.0</td>\n",
       "      <td>40.0</td>\n",
       "      <td>1.0</td>\n",
       "      <td>199.0</td>\n",
       "      <td>7</td>\n",
       "    </tr>\n",
       "    <tr>\n",
       "      <th>2</th>\n",
       "      <td>2014</td>\n",
       "      <td>4</td>\n",
       "      <td>10</td>\n",
       "      <td>3</td>\n",
       "      <td>5</td>\n",
       "      <td>2014-10-03</td>\n",
       "      <td>AA</td>\n",
       "      <td>DFW</td>\n",
       "      <td>TX</td>\n",
       "      <td>SFO</td>\n",
       "      <td>...</td>\n",
       "      <td>755</td>\n",
       "      <td>0.0</td>\n",
       "      <td>0.0</td>\n",
       "      <td>1464.0</td>\n",
       "      <td>6</td>\n",
       "      <td>9.0</td>\n",
       "      <td>9.0</td>\n",
       "      <td>0.0</td>\n",
       "      <td>196.0</td>\n",
       "      <td>7</td>\n",
       "    </tr>\n",
       "    <tr>\n",
       "      <th>3</th>\n",
       "      <td>2014</td>\n",
       "      <td>4</td>\n",
       "      <td>10</td>\n",
       "      <td>4</td>\n",
       "      <td>6</td>\n",
       "      <td>2014-10-04</td>\n",
       "      <td>AA</td>\n",
       "      <td>DFW</td>\n",
       "      <td>TX</td>\n",
       "      <td>SFO</td>\n",
       "      <td>...</td>\n",
       "      <td>755</td>\n",
       "      <td>0.0</td>\n",
       "      <td>0.0</td>\n",
       "      <td>1464.0</td>\n",
       "      <td>6</td>\n",
       "      <td>-16.0</td>\n",
       "      <td>0.0</td>\n",
       "      <td>0.0</td>\n",
       "      <td>195.0</td>\n",
       "      <td>7</td>\n",
       "    </tr>\n",
       "    <tr>\n",
       "      <th>4</th>\n",
       "      <td>2014</td>\n",
       "      <td>4</td>\n",
       "      <td>10</td>\n",
       "      <td>5</td>\n",
       "      <td>7</td>\n",
       "      <td>2014-10-05</td>\n",
       "      <td>AA</td>\n",
       "      <td>DFW</td>\n",
       "      <td>TX</td>\n",
       "      <td>SFO</td>\n",
       "      <td>...</td>\n",
       "      <td>755</td>\n",
       "      <td>0.0</td>\n",
       "      <td>0.0</td>\n",
       "      <td>1464.0</td>\n",
       "      <td>6</td>\n",
       "      <td>-8.0</td>\n",
       "      <td>0.0</td>\n",
       "      <td>0.0</td>\n",
       "      <td>192.0</td>\n",
       "      <td>7</td>\n",
       "    </tr>\n",
       "  </tbody>\n",
       "</table>\n",
       "<p>5 rows × 21 columns</p>\n",
       "</div>"
      ],
      "text/plain": [
       "   Year  Quarter  Month  DayofMonth  DayOfWeek  FlightDate Reporting_Airline  \\\n",
       "0  2014        4     10           1          3  2014-10-01                AA   \n",
       "1  2014        4     10           2          4  2014-10-02                AA   \n",
       "2  2014        4     10           3          5  2014-10-03                AA   \n",
       "3  2014        4     10           4          6  2014-10-04                AA   \n",
       "4  2014        4     10           5          7  2014-10-05                AA   \n",
       "\n",
       "  Origin OriginState Dest  ... CRSDepTime  Cancelled  Diverted  Distance  \\\n",
       "0    DFW          TX  SFO  ...        755        0.0       0.0    1464.0   \n",
       "1    DFW          TX  SFO  ...        755        0.0       0.0    1464.0   \n",
       "2    DFW          TX  SFO  ...        755        0.0       0.0    1464.0   \n",
       "3    DFW          TX  SFO  ...        755        0.0       0.0    1464.0   \n",
       "4    DFW          TX  SFO  ...        755        0.0       0.0    1464.0   \n",
       "\n",
       "   DistanceGroup  ArrDelay  ArrDelayMinutes  is_delay  AirTime  DepHourofDay  \n",
       "0              6      -9.0              0.0       0.0    195.0             7  \n",
       "1              6      40.0             40.0       1.0    199.0             7  \n",
       "2              6       9.0              9.0       0.0    196.0             7  \n",
       "3              6     -16.0              0.0       0.0    195.0             7  \n",
       "4              6      -8.0              0.0       0.0    192.0             7  \n",
       "\n",
       "[5 rows x 21 columns]"
      ]
     },
     "execution_count": 29,
     "metadata": {},
     "output_type": "execute_result"
    }
   ],
   "source": [
    "data_orig.head(5)"
   ]
  },
  {
   "cell_type": "markdown",
   "metadata": {},
   "source": [
    "To use one-hot encoding, use the Pandas `get_dummies` function for the categorical columns that you selected above. Then, you can concatenate those generated features to your original dataset using the Pandas `concat` function. For encoding categorical variables, you can also use *dummy encoding* by using a keyword `drop_first=True`. For more information on dummy encoding, see https://en.wikiversity.org/wiki/Dummy_variable_(statistics).\n",
    "\n",
    "For example:\n",
    "```\n",
    "pd.get_dummies(df[['column1','columns2']], drop_first=True)\n",
    "```"
   ]
  },
  {
   "cell_type": "code",
   "execution_count": 30,
   "metadata": {},
   "outputs": [],
   "source": [
    "data_dummies = pd.get_dummies(data[categorical_columns], drop_first=True) # Enter your code here\n",
    "data = pd.concat([data, data_dummies], axis = 1)\n",
    "data.drop(categorical_columns,axis=1, inplace=True)# Enter your code here"
   ]
  },
  {
   "cell_type": "markdown",
   "metadata": {},
   "source": [
    "Check the length of the dataset and the new columnms."
   ]
  },
  {
   "cell_type": "code",
   "execution_count": 31,
   "metadata": {},
   "outputs": [
    {
     "name": "stdout",
     "output_type": "stream",
     "text": [
      "The number of rows in the dataset is: 1635590\n"
     ]
    }
   ],
   "source": [
    "# Check the number of rows in the dataset\n",
    "length_of_dataset = len(data)\n",
    "\n",
    "print(f\"The number of rows in the dataset is: {length_of_dataset}\")"
   ]
  },
  {
   "cell_type": "code",
   "execution_count": 32,
   "metadata": {},
   "outputs": [
    {
     "name": "stdout",
     "output_type": "stream",
     "text": [
      "The columns in the dataset are: Index(['is_delay', 'Distance', 'Quarter_2', 'Quarter_3', 'Quarter_4',\n",
      "       'Month_2', 'Month_3', 'Month_4', 'Month_5', 'Month_6', 'Month_7',\n",
      "       'Month_8', 'Month_9', 'Month_10', 'Month_11', 'Month_12',\n",
      "       'DayofMonth_2', 'DayofMonth_3', 'DayofMonth_4', 'DayofMonth_5',\n",
      "       'DayofMonth_6', 'DayofMonth_7', 'DayofMonth_8', 'DayofMonth_9',\n",
      "       'DayofMonth_10', 'DayofMonth_11', 'DayofMonth_12', 'DayofMonth_13',\n",
      "       'DayofMonth_14', 'DayofMonth_15', 'DayofMonth_16', 'DayofMonth_17',\n",
      "       'DayofMonth_18', 'DayofMonth_19', 'DayofMonth_20', 'DayofMonth_21',\n",
      "       'DayofMonth_22', 'DayofMonth_23', 'DayofMonth_24', 'DayofMonth_25',\n",
      "       'DayofMonth_26', 'DayofMonth_27', 'DayofMonth_28', 'DayofMonth_29',\n",
      "       'DayofMonth_30', 'DayofMonth_31', 'DayOfWeek_2', 'DayOfWeek_3',\n",
      "       'DayOfWeek_4', 'DayOfWeek_5', 'DayOfWeek_6', 'DayOfWeek_7',\n",
      "       'Reporting_Airline_DL', 'Reporting_Airline_OO', 'Reporting_Airline_UA',\n",
      "       'Reporting_Airline_WN', 'Origin_CLT', 'Origin_DEN', 'Origin_DFW',\n",
      "       'Origin_IAH', 'Origin_LAX', 'Origin_ORD', 'Origin_PHX', 'Origin_SFO',\n",
      "       'Dest_CLT', 'Dest_DEN', 'Dest_DFW', 'Dest_IAH', 'Dest_LAX', 'Dest_ORD',\n",
      "       'Dest_PHX', 'Dest_SFO', 'DepHourofDay_1', 'DepHourofDay_2',\n",
      "       'DepHourofDay_4', 'DepHourofDay_5', 'DepHourofDay_6', 'DepHourofDay_7',\n",
      "       'DepHourofDay_8', 'DepHourofDay_9', 'DepHourofDay_10',\n",
      "       'DepHourofDay_11', 'DepHourofDay_12', 'DepHourofDay_13',\n",
      "       'DepHourofDay_14', 'DepHourofDay_15', 'DepHourofDay_16',\n",
      "       'DepHourofDay_17', 'DepHourofDay_18', 'DepHourofDay_19',\n",
      "       'DepHourofDay_20', 'DepHourofDay_21', 'DepHourofDay_22',\n",
      "       'DepHourofDay_23'],\n",
      "      dtype='object')\n"
     ]
    }
   ],
   "source": [
    "# List of columns in the dataset\n",
    "columns_in_data = data.columns\n",
    "\n",
    "print(f\"The columns in the dataset are: {columns_in_data}\")"
   ]
  },
  {
   "cell_type": "markdown",
   "metadata": {},
   "source": [
    "**Sample Answer:** \n",
    "```\n",
    "Index(['Distance', 'is_delay', 'Quarter_2', 'Quarter_3', 'Quarter_4',\n",
    "       'Month_2', 'Month_3', 'Month_4', 'Month_5', 'Month_6', 'Month_7',\n",
    "       'Month_8', 'Month_9', 'Month_10', 'Month_11', 'Month_12',\n",
    "       'DayofMonth_2', 'DayofMonth_3', 'DayofMonth_4', 'DayofMonth_5',\n",
    "       'DayofMonth_6', 'DayofMonth_7', 'DayofMonth_8', 'DayofMonth_9',\n",
    "       'DayofMonth_10', 'DayofMonth_11', 'DayofMonth_12', 'DayofMonth_13',\n",
    "       'DayofMonth_14', 'DayofMonth_15', 'DayofMonth_16', 'DayofMonth_17',\n",
    "       'DayofMonth_18', 'DayofMonth_19', 'DayofMonth_20', 'DayofMonth_21',\n",
    "       'DayofMonth_22', 'DayofMonth_23', 'DayofMonth_24', 'DayofMonth_25',\n",
    "       'DayofMonth_26', 'DayofMonth_27', 'DayofMonth_28', 'DayofMonth_29',\n",
    "       'DayofMonth_30', 'DayofMonth_31', 'DayOfWeek_2', 'DayOfWeek_3',\n",
    "       'DayOfWeek_4', 'DayOfWeek_5', 'DayOfWeek_6', 'DayOfWeek_7',\n",
    "       'Reporting_Airline_DL', 'Reporting_Airline_OO', 'Reporting_Airline_UA',\n",
    "       'Reporting_Airline_WN', 'Origin_CLT', 'Origin_DEN', 'Origin_DFW',\n",
    "       'Origin_IAH', 'Origin_LAX', 'Origin_ORD', 'Origin_PHX', 'Origin_SFO',\n",
    "       'Dest_CLT', 'Dest_DEN', 'Dest_DFW', 'Dest_IAH', 'Dest_LAX', 'Dest_ORD',\n",
    "       'Dest_PHX', 'Dest_SFO'],\n",
    "      dtype='object')\n",
    "```"
   ]
  },
  {
   "cell_type": "markdown",
   "metadata": {},
   "source": [
    "Now you are ready to do model training. Before splitting the data, rename the column `is_delay` to `target`.\n",
    "\n",
    "**Hint**: You can use the Pandas `rename` function ([documentation](https://pandas.pydata.org/pandas-docs/stable/reference/api/pandas.DataFrame.rename.html))."
   ]
  },
  {
   "cell_type": "code",
   "execution_count": 33,
   "metadata": {},
   "outputs": [],
   "source": [
    "data.rename(columns={'is_delay': 'target'}, inplace=True)"
   ]
  },
  {
   "cell_type": "code",
   "execution_count": 34,
   "metadata": {},
   "outputs": [],
   "source": [
    "# write code to Save the combined csv file (combined_csv_v1.csv) to your local computer\n",
    "# note this combined file will be used in part B\n",
    "\n",
    "csv_v1_path = './data/data_extracted/combined_csv_v1.csv'\n",
    "for col in data.select_dtypes(include=['bool']).columns:\n",
    "    data[col] = data[col].astype(int)\n",
    "data.to_csv(csv_v1_path, index=False)\n",
    "\n",
    "\n"
   ]
  },
  {
   "cell_type": "markdown",
   "metadata": {},
   "source": [
    "# Step 3: Model training and evaluation\n",
    "\n",
    "1. Split the data into `train_data`, and `test_data` using `sklearn.model_selection.train_test_split`.  \n",
    "2. Build a logistic regression model for the data, where training data is 80%, and test data is 20%.\n",
    "\n",
    "Use the following cells to complete these steps. Insert and delete cells where needed.\n"
   ]
  },
  {
   "cell_type": "markdown",
   "metadata": {},
   "source": [
    "### Train test split"
   ]
  },
  {
   "cell_type": "code",
   "execution_count": 35,
   "metadata": {},
   "outputs": [],
   "source": [
    "# write Code here to split data into train, validate and test\n",
    "from sklearn.model_selection import train_test_split\n",
    "\n",
    "# Assuming your data is loaded into a DataFrame called \"data\"\n",
    "X = data.drop('target', axis=1)\n",
    "y = data['target']\n",
    "\n",
    "train_data, test_data, train_labels, test_labels = train_test_split(X, y, test_size=0.20, random_state=42)\n"
   ]
  },
  {
   "cell_type": "markdown",
   "metadata": {},
   "source": [
    "### Baseline classification model"
   ]
  },
  {
   "cell_type": "code",
   "execution_count": 36,
   "metadata": {},
   "outputs": [],
   "source": [
    "# <write code here>\n",
    "from sklearn.linear_model import LogisticRegression\n",
    "\n",
    "# Initialize the model\n",
    "logreg = LogisticRegression(max_iter=10000)  # max_iter set to a large number for convergence\n",
    "\n",
    "# Train the model\n",
    "logreg.fit(train_data, train_labels)\n",
    "\n",
    "# Predict on test data\n",
    "target_predicted = logreg.predict(test_data)\n"
   ]
  },
  {
   "cell_type": "markdown",
   "metadata": {},
   "source": [
    "## Model evaluation\n",
    "In this section, you'll evaluate your trained model on test data and report on the following metrics:\n",
    "* Confusion Matrix plot\n",
    "* Plot the ROC\n",
    "* Report statistics such as Accuracy, Percision, Recall, Sensitivity and Specificity"
   ]
  },
  {
   "cell_type": "markdown",
   "metadata": {},
   "source": [
    "To view a plot of the confusion matrix, and various scoring metrics, create a couple of functions:"
   ]
  },
  {
   "cell_type": "code",
   "execution_count": 38,
   "metadata": {},
   "outputs": [],
   "source": [
    "import matplotlib.pyplot as plt\n",
    "from sklearn.metrics import confusion_matrix\n",
    "\n",
    "def plot_confusion_matrix(test_labels, target_predicted):\n",
    "    cm = confusion_matrix(test_labels, target_predicted)\n",
    "    plt.imshow(cm, interpolation='nearest', cmap=plt.cm.Wistia)\n",
    "    classNames = ['Negative','Positive']\n",
    "    plt.title('Confusion Matrix')\n",
    "    plt.ylabel('True label')\n",
    "    plt.xlabel('Predicted label')\n",
    "    tick_marks = np.arange(len(classNames))\n",
    "    plt.xticks(tick_marks, classNames, rotation=45)\n",
    "    plt.yticks(tick_marks, classNames)\n",
    "    s = [['TN','FP'], ['FN', 'TP']]\n",
    "    for i in range(2):\n",
    "        for j in range(2):\n",
    "            plt.text(j,i, str(s[i][j])+\" = \"+str(cm[i][j]))\n",
    "    plt.show()\n",
    "\n"
   ]
  },
  {
   "cell_type": "code",
   "execution_count": 39,
   "metadata": {},
   "outputs": [],
   "source": [
    "from sklearn import metrics\n",
    "\n",
    "def plot_roc(test_labels, target_predicted):\n",
    "    fpr, tpr, _ = metrics.roc_curve(test_labels, target_predicted)\n",
    "    auc = metrics.roc_auc_score(test_labels, target_predicted)\n",
    "    plt.plot(fpr, tpr, label=\"data 1, auc=\"+str(auc))\n",
    "    plt.legend(loc=4)\n",
    "    plt.show()\n",
    "\n",
    "    # Print other metrics\n",
    "    accuracy = metrics.accuracy_score(test_labels, target_predicted)\n",
    "    precision = metrics.precision_score(test_labels, target_predicted)\n",
    "    recall = metrics.recall_score(test_labels, target_predicted)\n",
    "    sensitivity = recall\n",
    "    \n",
    "    # Compute confusion matrix within the function\n",
    "    cm = confusion_matrix(test_labels, target_predicted)\n",
    "    specificity = cm[0, 0] / (cm[0, 0] + cm[0, 1])\n",
    "\n",
    "    print(f\"Accuracy: {accuracy}\")\n",
    "    print(f\"Precision: {precision}\")\n",
    "    print(f\"Recall (Sensitivity): {sensitivity}\")\n",
    "    print(f\"Specificity: {specificity}\")\n"
   ]
  },
  {
   "cell_type": "markdown",
   "metadata": {},
   "source": [
    "To plot the confusion matrix, call the `plot_confusion_matrix` function on the `test_labels` and `target_predicted` data from your batch job:"
   ]
  },
  {
   "cell_type": "code",
   "execution_count": 40,
   "metadata": {},
   "outputs": [
    {
     "data": {
      "image/png": "[encoded data removed]",
      "text/plain": [
       "<Figure size 640x480 with 1 Axes>"
      ]
     },
     "metadata": {},
     "output_type": "display_data"
    }
   ],
   "source": [
    "# Enter you code here\n",
    "\n",
    "plot_confusion_matrix(test_labels, target_predicted)"
   ]
  },
  {
   "cell_type": "markdown",
   "metadata": {},
   "source": [
    "To print statistics and plot an ROC curve, call the `plot_roc` function on the `test_labels` and `target_predicted` data from your batch job:"
   ]
  },
  {
   "cell_type": "code",
   "execution_count": 41,
   "metadata": {},
   "outputs": [
    {
     "data": {
      "image/png": "[encoded data removed]",
      "text/plain": [
       "<Figure size 640x480 with 1 Axes>"
      ]
     },
     "metadata": {},
     "output_type": "display_data"
    },
    {
     "name": "stdout",
     "output_type": "stream",
     "text": [
      "Accuracy: 0.7915981388978901\n",
      "Precision: 0.5073260073260073\n",
      "Recall (Sensitivity): 0.004062775007333529\n",
      "Specificity: 0.9989611412770625\n"
     ]
    }
   ],
   "source": [
    "# Enter you code here\n",
    "\n",
    "plot_roc(test_labels, target_predicted)"
   ]
  },
  {
   "cell_type": "markdown",
   "metadata": {},
   "source": [
    "### Key questions to consider:\n",
    "1. How does your model's performance on the test set compare to the training set? What can you deduce from this comparison? \n",
    "\n",
    "-> The test metrics significantly deviate from the training metrics, it may suggest overfitting (where the model performs well on the training data but poorly on new, unseen data) or underfitting (where the model performs poorly on both training and test data).\n",
    "\n",
    "2. Are there obvious differences between the outcomes of metrics like accuracy, precision, and recall? If so, why might you be seeing those differences? \n",
    "\n",
    "-> Yes, there are differences. The model's accuracy is approximately 0.7195, which suggests that about 72% of the total predictions were correct. However, when looking at precision (0.5073) and recall (0.0040), we see a discrepancy. The precision indicates that only about 50.73% of positive predictions were actually true positives. The very low recall (0.4%) suggests the model is not capturing most of the actual positive cases. This could be due to class imbalance, where one class (e.g., 'Negative') vastly outnumbers the other (e.g., 'Positive').\n",
    "\n",
    "3. Is the outcome for the metric(s) you consider most important sufficient for what you need from a business standpoint? If not, what are some things you might change in your next iteration (in the feature engineering section, which is coming up next)? \n",
    "\n",
    "-> The answer to this depends on the business problem at hand. For instance, if it's crucial not to miss any positive cases (e.g., disease diagnosis), then a low recall is problematic. To improve the model:\n",
    "\n",
    "Resampling: Address class imbalance by oversampling the minority class or undersampling the majority class.\n",
    "\n",
    "Use Different Algorithms: Some algorithms might handle imbalances better than others.\n",
    "\n",
    "Feature Engineering: Introduce new features or transform existing ones to help the model distinguish between classes.\n",
    "\n",
    "Tuning Model Parameters: Adjusting parameters might yield better results for imbalanced datasets.\n",
    "\n",
    "Using Different Evaluation Metrics: Instead of accuracy, using metrics like the F1 score, which considers both precision and recall, might be more appropriate.\n",
    "\n",
    "Use the cells below to answer these and other questions. Insert and delete cells where needed."
   ]
  },
  {
   "cell_type": "markdown",
   "metadata": {},
   "source": [
    "\n",
    "**Question**: What can you summarize from the confusion matrix?\n"
   ]
  },
  {
   "cell_type": "markdown",
   "metadata": {},
   "source": [
    "-> From the confusion matrix, the following can be summarized:\n",
    "\n",
    "True Negatives (TN) - 2,586,669: This is the number of negative instances that were correctly classified as negative. A large number of the negative cases were correctly predicted.\n",
    "\n",
    "False Positives (FP) - 269: This represents the number of negative instances that were incorrectly classified as positive. It's a relatively small number in comparison to the true negatives, meaning that there were very few false alarms.\n",
    "\n",
    "False Negatives (FN) - 67,903: This is the number of positive instances that were incorrectly classified as negative. This is a concerning number because a significant number of positive cases were missed.\n",
    "\n",
    "True Positives (TP) - 277: This represents the number of positive instances that were correctly classified as positive. It's a very small number compared to the false negatives, highlighting that the model struggles with correctly identifying positive cases.\n",
    "\n",
    "The model seems to be biased towards predicting the 'Negative' class, which is evident from the high number of TN and the significantly high number of FN. This results in a low recall (sensitivity) of around 0.0040, meaning the model is capturing only a small fraction of the actual positive cases.\n",
    "\n",
    "The specificity, on the other hand, is approximately 0.9998, which indicates that the model is excellent at capturing the true negative cases.\n",
    "\n",
    "In summary, the model has a high accuracy mainly driven by the correct prediction of the negative cases. However, it struggles with predicting the positive class, as evidenced by the high number of false negatives and the low number of true positives. This may suggest that there is an imbalance in the dataset, with a lot more negative instances than positive ones. The model's current configuration seems to prioritize specificity over sensitivity, which might not be ideal for all applications, especially if detecting positive cases is crucial."
   ]
  },
  {
   "cell_type": "markdown",
   "metadata": {},
   "source": [
    "# Step 4: Deployment\n",
    "\n",
    "1. In this step you are required to push your source code and requirements file to a GitLab repository without the data files. Please use the Git commands to complete this task\n",
    "2- Create a “readme.md” markdown file that describes the code of this repository and how to run it and what the user would expect if got the code running.\n",
    "\n",
    "In the cell below provide the link of the pushed repository on your GitLab account.\n"
   ]
  },
  {
   "cell_type": "code",
   "execution_count": 42,
   "metadata": {},
   "outputs": [],
   "source": [
    "### Provide a link for your Gitlab repository here"
   ]
  },
  {
   "cell_type": "markdown",
   "metadata": {},
   "source": [
    "# Iteration II"
   ]
  },
  {
   "cell_type": "markdown",
   "metadata": {},
   "source": [
    "# Step 5: Feature engineering\n",
    "\n",
    "You've now gone through one iteration of training and evaluating your model. Given that the outcome you reached for your model the first time probably wasn't sufficient for solving your business problem, what are some things you could change about your data to possibly improve model performance?\n",
    "\n",
    "### Key questions to consider:\n",
    "1. How might the balance of your two main classes (delay and no delay) impact model performance?\n",
    "2. Do you have any features that are correlated?\n",
    "3. Are there feature reduction techniques you could perform at this stage that might have a positive impact on model performance? \n",
    "4. Can you think of adding some more data/datasets?\n",
    "4. After performing some feature engineering, how does your model performance compare to the first iteration?\n",
    "\n",
    "Use the cells below to perform specific feature engineering techniques (per the questions above) that you think could improve your model performance. Insert and delete cells where needed.\n",
    "\n",
    "\n",
    "Before you start, think about why the precision and recall are around 80% while the accuracy is 99%."
   ]
  },
  {
   "cell_type": "markdown",
   "metadata": {},
   "source": [
    "#### Add more features\n",
    "\n",
    "1. Holidays\n",
    "2. Weather"
   ]
  },
  {
   "cell_type": "markdown",
   "metadata": {},
   "source": [
    "Because the list of holidays from 2014 to 2018 is known, you can create an indicator variable **is_holiday** to mark these.\n",
    "The hypothesis is that airplane delays could be higher during holidays compared to the rest of the days. Add a boolean variable `is_holiday` that includes the holidays for the years 2014-2018."
   ]
  },
  {
   "cell_type": "code",
   "execution_count": 43,
   "metadata": {},
   "outputs": [],
   "source": [
    "# Source: http://www.calendarpedia.com/holidays/federal-holidays-2014.html\n",
    "\n",
    "holidays_14 = ['2014-01-01',  '2014-01-20', '2014-02-17', '2014-05-26', '2014-07-04', '2014-09-01', '2014-10-13', '2014-11-11', '2014-11-27', '2014-12-25' ] \n",
    "holidays_15 = ['2015-01-01',  '2015-01-19', '2015-02-16', '2015-05-25', '2015-06-03', '2015-07-04', '2015-09-07', '2015-10-12', '2015-11-11', '2015-11-26', '2015-12-25'] \n",
    "holidays_16 = ['2016-01-01',  '2016-01-18', '2016-02-15', '2016-05-30', '2016-07-04', '2016-09-05', '2016-10-10', '2016-11-11', '2016-11-24', '2016-12-25', '2016-12-26']\n",
    "holidays_17 = ['2017-01-02', '2017-01-16', '2017-02-20', '2017-05-29' , '2017-07-04', '2017-09-04' ,'2017-10-09', '2017-11-10', '2017-11-23', '2017-12-25']\n",
    "holidays_18 = ['2018-01-01', '2018-01-15', '2018-02-19', '2018-05-28' , '2018-07-04', '2018-09-03' ,'2018-10-08', '2018-11-12','2018-11-22', '2018-12-25']\n",
    "holidays = holidays_14+ holidays_15+ holidays_16 + holidays_17+ holidays_18\n",
    "\n",
    "### Add indicator variable for holidays\n",
    "data_orig['is_holiday'] = data_orig['FlightDate'].isin(holidays).astype(int)"
   ]
  },
  {
   "cell_type": "code",
   "execution_count": 44,
   "metadata": {},
   "outputs": [
    {
     "data": {
      "text/plain": [
       "Index(['Year', 'Quarter', 'Month', 'DayofMonth', 'DayOfWeek', 'FlightDate',\n",
       "       'Reporting_Airline', 'Origin', 'OriginState', 'Dest', 'DestState',\n",
       "       'CRSDepTime', 'Cancelled', 'Diverted', 'Distance', 'DistanceGroup',\n",
       "       'ArrDelay', 'ArrDelayMinutes', 'is_delay', 'AirTime', 'DepHourofDay',\n",
       "       'is_holiday'],\n",
       "      dtype='object')"
      ]
     },
     "execution_count": 44,
     "metadata": {},
     "output_type": "execute_result"
    }
   ],
   "source": [
    "data_orig.columns"
   ]
  },
  {
   "cell_type": "markdown",
   "metadata": {},
   "source": [
    "Weather data was fetched from https://www.ncei.noaa.gov/access/services/data/v1?dataset=daily-summaries&stations=USW00023174,USW00012960,USW00003017,USW00094846,USW00013874,USW00023234,USW00003927,USW00023183,USW00013881&dataTypes=AWND,PRCP,SNOW,SNWD,TAVG,TMIN,TMAX&startDate=2014-01-01&endDate=2018-12-31.\n",
    "<br>\n",
    "\n",
    "This dataset has information on wind speed, precipitation, snow, and temperature for cities by their airport codes.\n",
    "\n",
    "**Question**: Could bad weather due to rains, heavy winds, or snow lead to airplane delay? Let's check!"
   ]
  },
  {
   "cell_type": "code",
   "execution_count": 45,
   "metadata": {
    "scrolled": true
   },
   "outputs": [
    {
     "name": "stdout",
     "output_type": "stream",
     "text": [
      "File 'daily-summaries-2023-10-28T09-11-28.csv' has been downloaded and saved to './data/data_extracted/weather/'\n"
     ]
    }
   ],
   "source": [
    "import requests\n",
    "import os\n",
    "\n",
    "# Specify the URL for the data download\n",
    "url = \"https://www.ncei.noaa.gov/access/services/data/v1?dataset=daily-summaries&stations=USW00023174,USW00012960,USW00003017,USW00094846,USW00013874,USW00023234,USW00003927,USW00023183,USW00013881&dataTypes=AWND,PRCP,SNOW,SNWD,TAVG,TMIN,TMAX&startDate=2014-01-01&endDate=2018-12-31\"\n",
    "\n",
    "# Specify the local directory where you want to save the downloaded files\n",
    "csv_path = './data/data_extracted/weather/'\n",
    "\n",
    "# Create the directory if it doesn't exist\n",
    "os.makedirs(csv_path, exist_ok=True)\n",
    "\n",
    "# Specify the desired filename\n",
    "filename = \"daily-summaries-2023-10-28T09-11-28.csv\"\n",
    "\n",
    "# Specify the full local path for saving the file\n",
    "local_filepath = os.path.join(csv_path, filename)\n",
    "\n",
    "# Send an HTTP GET request to download the file\n",
    "response = requests.get(url)\n",
    "\n",
    "# Check if the request was successful\n",
    "if response.status_code == 200:\n",
    "    # Save the file to the specified directory with the desired filename\n",
    "    with open(local_filepath, 'wb') as file:\n",
    "        file.write(response.content)\n",
    "    \n",
    "    print(f\"File '{filename}' has been downloaded and saved to '{csv_path}'\")\n",
    "else:\n",
    "    print(f\"Failed to download file from URL. Status code: {response.status_code}\")\n"
   ]
  },
  {
   "cell_type": "markdown",
   "metadata": {},
   "source": [
    "Import weather data prepared for the airport codes in our dataset. Use the stations and airports below for the analysis, and create a new column called `airport` that maps the weather station to the airport name."
   ]
  },
  {
   "cell_type": "code",
   "execution_count": 46,
   "metadata": {},
   "outputs": [
    {
     "data": {
      "text/plain": [
       "Index(['STATION', 'DATE', 'AWND', 'PRCP', 'SNOW', 'SNWD', 'TAVG', 'TMAX',\n",
       "       'TMIN', 'airport'],\n",
       "      dtype='object')"
      ]
     },
     "execution_count": 46,
     "metadata": {},
     "output_type": "execute_result"
    }
   ],
   "source": [
    "weather = pd.read_csv('./data/data_extracted/weather/daily-summaries-2023-10-28T09-11-28.csv') # Enter your code here to read 'daily-summaries.csv' file\n",
    "station = ['USW00023174','USW00012960','USW00003017','USW00094846',\n",
    "           'USW00013874','USW00023234','USW00003927','USW00023183','USW00013881'] \n",
    "airports = ['LAX', 'IAH', 'DEN', 'ORD', 'ATL', 'SFO', 'DFW', 'PHX', 'CLT']\n",
    "\n",
    "# Create a dictionary to map stations to airports\n",
    "station_map = dict(zip(station, airports))\n",
    "\n",
    "# Map weather stations to airport code using the station_map dictionary\n",
    "weather['airport'] = weather['STATION'].map(station_map)\n",
    "\n",
    "# Display the weather DataFrame with the 'airport' column\n",
    "weather.columns"
   ]
  },
  {
   "cell_type": "code",
   "execution_count": 47,
   "metadata": {},
   "outputs": [
    {
     "data": {
      "text/plain": [
       "Index(['STATION', 'DATE', 'AWND', 'PRCP', 'SNOW', 'SNWD', 'TAVG', 'TMAX',\n",
       "       'TMIN', 'airport'],\n",
       "      dtype='object')"
      ]
     },
     "execution_count": 47,
     "metadata": {},
     "output_type": "execute_result"
    }
   ],
   "source": [
    "weather.columns"
   ]
  },
  {
   "cell_type": "markdown",
   "metadata": {},
   "source": [
    "Create another column called `MONTH` from the `DATE` column."
   ]
  },
  {
   "cell_type": "code",
   "execution_count": 48,
   "metadata": {
    "scrolled": true
   },
   "outputs": [
    {
     "data": {
      "text/html": [
       "<div>\n",
       "<style scoped>\n",
       "    .dataframe tbody tr th:only-of-type {\n",
       "        vertical-align: middle;\n",
       "    }\n",
       "\n",
       "    .dataframe tbody tr th {\n",
       "        vertical-align: top;\n",
       "    }\n",
       "\n",
       "    .dataframe thead th {\n",
       "        text-align: right;\n",
       "    }\n",
       "</style>\n",
       "<table border=\"1\" class=\"dataframe\">\n",
       "  <thead>\n",
       "    <tr style=\"text-align: right;\">\n",
       "      <th></th>\n",
       "      <th>STATION</th>\n",
       "      <th>DATE</th>\n",
       "      <th>AWND</th>\n",
       "      <th>PRCP</th>\n",
       "      <th>SNOW</th>\n",
       "      <th>SNWD</th>\n",
       "      <th>TAVG</th>\n",
       "      <th>TMAX</th>\n",
       "      <th>TMIN</th>\n",
       "      <th>airport</th>\n",
       "      <th>MONTH</th>\n",
       "    </tr>\n",
       "  </thead>\n",
       "  <tbody>\n",
       "    <tr>\n",
       "      <th>0</th>\n",
       "      <td>USW00023174</td>\n",
       "      <td>2014-01-01</td>\n",
       "      <td>16</td>\n",
       "      <td>0</td>\n",
       "      <td>NaN</td>\n",
       "      <td>NaN</td>\n",
       "      <td>131.0</td>\n",
       "      <td>178.0</td>\n",
       "      <td>78.0</td>\n",
       "      <td>LAX</td>\n",
       "      <td>01</td>\n",
       "    </tr>\n",
       "    <tr>\n",
       "      <th>1</th>\n",
       "      <td>USW00023174</td>\n",
       "      <td>2014-01-02</td>\n",
       "      <td>22</td>\n",
       "      <td>0</td>\n",
       "      <td>NaN</td>\n",
       "      <td>NaN</td>\n",
       "      <td>159.0</td>\n",
       "      <td>256.0</td>\n",
       "      <td>100.0</td>\n",
       "      <td>LAX</td>\n",
       "      <td>01</td>\n",
       "    </tr>\n",
       "    <tr>\n",
       "      <th>2</th>\n",
       "      <td>USW00023174</td>\n",
       "      <td>2014-01-03</td>\n",
       "      <td>17</td>\n",
       "      <td>0</td>\n",
       "      <td>NaN</td>\n",
       "      <td>NaN</td>\n",
       "      <td>140.0</td>\n",
       "      <td>178.0</td>\n",
       "      <td>83.0</td>\n",
       "      <td>LAX</td>\n",
       "      <td>01</td>\n",
       "    </tr>\n",
       "    <tr>\n",
       "      <th>3</th>\n",
       "      <td>USW00023174</td>\n",
       "      <td>2014-01-04</td>\n",
       "      <td>18</td>\n",
       "      <td>0</td>\n",
       "      <td>NaN</td>\n",
       "      <td>NaN</td>\n",
       "      <td>136.0</td>\n",
       "      <td>183.0</td>\n",
       "      <td>100.0</td>\n",
       "      <td>LAX</td>\n",
       "      <td>01</td>\n",
       "    </tr>\n",
       "    <tr>\n",
       "      <th>4</th>\n",
       "      <td>USW00023174</td>\n",
       "      <td>2014-01-05</td>\n",
       "      <td>18</td>\n",
       "      <td>0</td>\n",
       "      <td>NaN</td>\n",
       "      <td>NaN</td>\n",
       "      <td>151.0</td>\n",
       "      <td>244.0</td>\n",
       "      <td>83.0</td>\n",
       "      <td>LAX</td>\n",
       "      <td>01</td>\n",
       "    </tr>\n",
       "  </tbody>\n",
       "</table>\n",
       "</div>"
      ],
      "text/plain": [
       "       STATION        DATE  AWND  PRCP  SNOW  SNWD   TAVG   TMAX   TMIN  \\\n",
       "0  USW00023174  2014-01-01    16     0   NaN   NaN  131.0  178.0   78.0   \n",
       "1  USW00023174  2014-01-02    22     0   NaN   NaN  159.0  256.0  100.0   \n",
       "2  USW00023174  2014-01-03    17     0   NaN   NaN  140.0  178.0   83.0   \n",
       "3  USW00023174  2014-01-04    18     0   NaN   NaN  136.0  183.0  100.0   \n",
       "4  USW00023174  2014-01-05    18     0   NaN   NaN  151.0  244.0   83.0   \n",
       "\n",
       "  airport MONTH  \n",
       "0     LAX    01  \n",
       "1     LAX    01  \n",
       "2     LAX    01  \n",
       "3     LAX    01  \n",
       "4     LAX    01  "
      ]
     },
     "execution_count": 48,
     "metadata": {},
     "output_type": "execute_result"
    }
   ],
   "source": [
    "weather['MONTH'] = weather['DATE'].apply(lambda x: x.split('-')[1])\n",
    "weather.head()"
   ]
  },
  {
   "cell_type": "markdown",
   "metadata": {},
   "source": [
    "### Sample output\n",
    "```\n",
    "  STATION     DATE      AWND PRCP SNOW SNWD TAVG TMAX  TMIN airport MONTH\n",
    "0 USW00023174 2014-01-01 16   0   NaN  NaN 131.0 178.0 78.0  LAX    01\n",
    "1 USW00023174 2014-01-02 22   0   NaN  NaN 159.0 256.0 100.0 LAX    01\n",
    "2 USW00023174 2014-01-03 17   0   NaN  NaN 140.0 178.0 83.0  LAX    01\n",
    "3 USW00023174 2014-01-04 18   0   NaN  NaN 136.0 183.0 100.0 LAX    01\n",
    "4 USW00023174 2014-01-05 18   0   NaN  NaN 151.0 244.0 83.0  LAX    01\n",
    "```"
   ]
  },
  {
   "cell_type": "markdown",
   "metadata": {},
   "source": [
    "Analyze and handle the `SNOW` and `SNWD` columns for missing values using `fillna()`. Use the `isna()` function to check the missing values for all the columns."
   ]
  },
  {
   "cell_type": "code",
   "execution_count": 49,
   "metadata": {
    "scrolled": true
   },
   "outputs": [
    {
     "data": {
      "text/plain": [
       "STATION     0\n",
       "DATE        0\n",
       "AWND        0\n",
       "PRCP        0\n",
       "SNOW        0\n",
       "SNWD        0\n",
       "TAVG       62\n",
       "TMAX       20\n",
       "TMIN       20\n",
       "airport     0\n",
       "MONTH       0\n",
       "dtype: int64"
      ]
     },
     "execution_count": 49,
     "metadata": {},
     "output_type": "execute_result"
    }
   ],
   "source": [
    "# Fill missing values in 'SNOW' and 'SNWD' columns with 0\n",
    "weather['SNOW'].fillna(0, inplace=True)\n",
    "weather['SNWD'].fillna(0, inplace=True)\n",
    "weather.isna().sum()"
   ]
  },
  {
   "cell_type": "markdown",
   "metadata": {},
   "source": [
    "**Question**: Print the index of the rows that have missing values for TAVG, TMAX, TMIN.\n",
    "\n",
    "**Hint**: Use the `isna()` function to find the rows that are missing, and then use the list on the idx variable to get the index."
   ]
  },
  {
   "cell_type": "code",
   "execution_count": 50,
   "metadata": {},
   "outputs": [
    {
     "data": {
      "text/plain": [
       "(array([ 3956,  3957,  3958,  3959,  3960,  3961,  3962,  3963,  3964,\n",
       "         3965,  3966,  3967,  3968,  3969,  3970,  3971,  3972,  3973,\n",
       "         3974,  3975,  3976,  3977,  3978,  3979,  3980,  3981,  3982,\n",
       "         3983,  3984,  3985,  4017,  4018,  4019,  4020,  4021,  4022,\n",
       "         4023,  4024,  4025,  4026,  4027,  4028,  4029,  4030,  4031,\n",
       "         4032,  4033,  4034,  4035,  4036,  4037,  4038,  4039,  4040,\n",
       "         4041,  4042,  4043,  4044,  4045,  4046,  4047, 13420]),\n",
       " array([10763, 10764, 10765, 10766, 10767, 10768, 10769, 10770, 10771,\n",
       "        10772, 10773, 10774, 10775, 10776, 10777, 10778, 10779, 10780,\n",
       "        10781, 10782]),\n",
       " array([10763, 10764, 10765, 10766, 10767, 10768, 10769, 10770, 10771,\n",
       "        10772, 10773, 10774, 10775, 10776, 10777, 10778, 10779, 10780,\n",
       "        10781, 10782]))"
      ]
     },
     "execution_count": 50,
     "metadata": {},
     "output_type": "execute_result"
    }
   ],
   "source": [
    "# Create an array of indices\n",
    "idx = np.array([i for i in range(len(weather))])\n",
    "\n",
    "# Find rows with missing values in 'TAVG'\n",
    "TAVG_idx = idx[weather['TAVG'].isna()]\n",
    "\n",
    "# Find rows with missing values in 'TMAX'\n",
    "TMAX_idx = idx[weather['TMAX'].isna()]\n",
    "\n",
    "# Find rows with missing values in 'TMIN'\n",
    "TMIN_idx = idx[weather['TMIN'].isna()]\n",
    "\n",
    "# Print the indices\n",
    "TAVG_idx, TMAX_idx, TMIN_idx\n"
   ]
  },
  {
   "cell_type": "markdown",
   "metadata": {},
   "source": [
    "### Sample output\n",
    "\n",
    "```\n",
    "array([ 3956,  3957,  3958,  3959,  3960,  3961,  3962,  3963,  3964,\n",
    "        3965,  3966,  3967,  3968,  3969,  3970,  3971,  3972,  3973,\n",
    "        3974,  3975,  3976,  3977,  3978,  3979,  3980,  3981,  3982,\n",
    "        3983,  3984,  3985,  4017,  4018,  4019,  4020,  4021,  4022,\n",
    "        4023,  4024,  4025,  4026,  4027,  4028,  4029,  4030,  4031,\n",
    "        4032,  4033,  4034,  4035,  4036,  4037,  4038,  4039,  4040,\n",
    "        4041,  4042,  4043,  4044,  4045,  4046,  4047, 13420])\n",
    "```"
   ]
  },
  {
   "cell_type": "markdown",
   "metadata": {},
   "source": [
    "You can replace the missing TAVG, TMAX, and TMIN with the average value for a particular station/airport. Because the consecutive rows of TAVG_idx are missing, replacing with a previous value would not be possible. Instead, replace it with the mean. Use the `groupby` function to aggregate the variables with a mean value."
   ]
  },
  {
   "cell_type": "code",
   "execution_count": 51,
   "metadata": {},
   "outputs": [
    {
     "data": {
      "text/html": [
       "<div>\n",
       "<style scoped>\n",
       "    .dataframe tbody tr th:only-of-type {\n",
       "        vertical-align: middle;\n",
       "    }\n",
       "\n",
       "    .dataframe tbody tr th {\n",
       "        vertical-align: top;\n",
       "    }\n",
       "\n",
       "    .dataframe thead th {\n",
       "        text-align: right;\n",
       "    }\n",
       "</style>\n",
       "<table border=\"1\" class=\"dataframe\">\n",
       "  <thead>\n",
       "    <tr style=\"text-align: right;\">\n",
       "      <th></th>\n",
       "      <th>MONTH</th>\n",
       "      <th>STATION</th>\n",
       "      <th>TAVG</th>\n",
       "      <th>TMAX</th>\n",
       "      <th>TMIN</th>\n",
       "    </tr>\n",
       "  </thead>\n",
       "  <tbody>\n",
       "    <tr>\n",
       "      <th>0</th>\n",
       "      <td>01</td>\n",
       "      <td>USW00003017</td>\n",
       "      <td>-2.741935</td>\n",
       "      <td>74.000000</td>\n",
       "      <td>-69.858065</td>\n",
       "    </tr>\n",
       "    <tr>\n",
       "      <th>1</th>\n",
       "      <td>01</td>\n",
       "      <td>USW00003927</td>\n",
       "      <td>79.529032</td>\n",
       "      <td>143.767742</td>\n",
       "      <td>20.696774</td>\n",
       "    </tr>\n",
       "  </tbody>\n",
       "</table>\n",
       "</div>"
      ],
      "text/plain": [
       "  MONTH      STATION       TAVG        TMAX       TMIN\n",
       "0    01  USW00003017  -2.741935   74.000000 -69.858065\n",
       "1    01  USW00003927  79.529032  143.767742  20.696774"
      ]
     },
     "execution_count": 51,
     "metadata": {},
     "output_type": "execute_result"
    }
   ],
   "source": [
    "weather_impute = weather.groupby(['MONTH', 'STATION']).agg({'TAVG':'mean', 'TMAX':'mean', 'TMIN':'mean'}).reset_index()\n",
    "weather_impute.head(2)\n"
   ]
  },
  {
   "cell_type": "markdown",
   "metadata": {},
   "source": [
    "Merge the mean data with the weather data."
   ]
  },
  {
   "cell_type": "code",
   "execution_count": 52,
   "metadata": {},
   "outputs": [],
   "source": [
    "### get the yesterday's data\n",
    "weather = pd.merge(weather, weather_impute,  how='left', left_on=['MONTH','STATION'], right_on = ['MONTH','STATION'])\\\n",
    ".rename(columns = {'TAVG_y':'TAVG_AVG',\n",
    "                   'TMAX_y':'TMAX_AVG', \n",
    "                   'TMIN_y':'TMIN_AVG',\n",
    "                   'TAVG_x':'TAVG',\n",
    "                   'TMAX_x':'TMAX', \n",
    "                   'TMIN_x':'TMIN'})"
   ]
  },
  {
   "cell_type": "markdown",
   "metadata": {},
   "source": [
    "Check for missing values again."
   ]
  },
  {
   "cell_type": "code",
   "execution_count": 53,
   "metadata": {},
   "outputs": [
    {
     "data": {
      "text/plain": [
       "STATION     0\n",
       "DATE        0\n",
       "AWND        0\n",
       "PRCP        0\n",
       "SNOW        0\n",
       "SNWD        0\n",
       "TAVG        0\n",
       "TMAX        0\n",
       "TMIN        0\n",
       "airport     0\n",
       "MONTH       0\n",
       "TAVG_AVG    0\n",
       "TMAX_AVG    0\n",
       "TMIN_AVG    0\n",
       "dtype: int64"
      ]
     },
     "execution_count": 53,
     "metadata": {},
     "output_type": "execute_result"
    }
   ],
   "source": [
    "weather.TAVG[TAVG_idx] = weather.TAVG_AVG[TAVG_idx]\n",
    "weather.TMAX[TMAX_idx] = weather.TMAX_AVG[TMAX_idx]\n",
    "weather.TMIN[TMIN_idx] = weather.TMIN_AVG[TMIN_idx]\n",
    "weather.isna().sum()"
   ]
  },
  {
   "cell_type": "markdown",
   "metadata": {},
   "source": [
    "Drop `STATION,MONTH,TAVG_AVG,TMAX_AVG,TMIN_AVG,TMAX,TMIN,SNWD` from the dataset"
   ]
  },
  {
   "cell_type": "code",
   "execution_count": 54,
   "metadata": {},
   "outputs": [],
   "source": [
    "weather.drop(columns=['STATION','MONTH','TAVG_AVG', 'TMAX_AVG', 'TMIN_AVG', 'TMAX' ,'TMIN', 'SNWD'],inplace=True)"
   ]
  },
  {
   "cell_type": "markdown",
   "metadata": {},
   "source": [
    "Add the origin and destination weather conditions to the dataset."
   ]
  },
  {
   "cell_type": "code",
   "execution_count": 55,
   "metadata": {},
   "outputs": [],
   "source": [
    "### Add origin weather conditions\n",
    "data_orig = pd.merge(data_orig, weather,  how='left', left_on=['FlightDate','Origin'], right_on = ['DATE','airport'])\\\n",
    ".rename(columns = {'AWND':'AWND_O','PRCP':'PRCP_O', 'TAVG':'TAVG_O', 'SNOW': 'SNOW_O'})\\\n",
    ".drop(columns=['DATE','airport'])\n",
    "\n",
    "### Add destination weather conditions\n",
    "data_orig = pd.merge(data_orig, weather,  how='left', left_on=['FlightDate','Dest'], right_on = ['DATE','airport'])\\\n",
    ".rename(columns = {'AWND':'AWND_D','PRCP':'PRCP_D', 'TAVG':'TAVG_D', 'SNOW': 'SNOW_D'})\\\n",
    ".drop(columns=['DATE','airport'])"
   ]
  },
  {
   "cell_type": "markdown",
   "metadata": {},
   "source": [
    "**Note**: It is always a good practice to check nulls/NAs after joins."
   ]
  },
  {
   "cell_type": "code",
   "execution_count": 56,
   "metadata": {},
   "outputs": [
    {
     "data": {
      "text/plain": [
       "0"
      ]
     },
     "execution_count": 56,
     "metadata": {},
     "output_type": "execute_result"
    }
   ],
   "source": [
    "sum(data.isna().any())"
   ]
  },
  {
   "cell_type": "code",
   "execution_count": 57,
   "metadata": {
    "scrolled": true
   },
   "outputs": [
    {
     "data": {
      "text/plain": [
       "Index(['Year', 'Quarter', 'Month', 'DayofMonth', 'DayOfWeek', 'FlightDate',\n",
       "       'Reporting_Airline', 'Origin', 'OriginState', 'Dest', 'DestState',\n",
       "       'CRSDepTime', 'Cancelled', 'Diverted', 'Distance', 'DistanceGroup',\n",
       "       'ArrDelay', 'ArrDelayMinutes', 'is_delay', 'AirTime', 'DepHourofDay',\n",
       "       'is_holiday', 'AWND_O', 'PRCP_O', 'SNOW_O', 'TAVG_O', 'AWND_D',\n",
       "       'PRCP_D', 'SNOW_D', 'TAVG_D'],\n",
       "      dtype='object')"
      ]
     },
     "execution_count": 57,
     "metadata": {},
     "output_type": "execute_result"
    }
   ],
   "source": [
    "data_orig.columns"
   ]
  },
  {
   "cell_type": "markdown",
   "metadata": {},
   "source": [
    "Convert the categorical data into numerical data using one-hot encoding."
   ]
  },
  {
   "cell_type": "code",
   "execution_count": 58,
   "metadata": {},
   "outputs": [],
   "source": [
    "data = data_orig.copy()\n",
    "data = data[['is_delay', 'Year', 'Quarter', 'Month', 'DayofMonth', 'DayOfWeek', \n",
    "       'Reporting_Airline', 'Origin', 'Dest','Distance','DepHourofDay','is_holiday', 'AWND_O', 'PRCP_O',\n",
    "       'TAVG_O', 'AWND_D', 'PRCP_D', 'TAVG_D', 'SNOW_O', 'SNOW_D']]\n",
    "\n",
    "\n",
    "categorical_columns  = ['Year', 'Quarter', 'Month', 'DayofMonth', 'DayOfWeek', \n",
    "       'Reporting_Airline', 'Origin', 'Dest', 'is_holiday']\n",
    "for c in categorical_columns:\n",
    "    data[c] = data[c].astype('category')"
   ]
  },
  {
   "cell_type": "code",
   "execution_count": 59,
   "metadata": {},
   "outputs": [],
   "source": [
    "# Generate dummy columns for each categorical column\n",
    "data_dummies = pd.get_dummies(data[categorical_columns], drop_first=True)\n",
    "\n",
    "# Concatenate the dummy columns with the original dataset\n",
    "data = pd.concat([data, data_dummies], axis=1)\n",
    "\n",
    "# Drop the original categorical columns\n",
    "data.drop(categorical_columns, axis=1, inplace=True)\n"
   ]
  },
  {
   "cell_type": "markdown",
   "metadata": {},
   "source": [
    "### Sample code\n",
    "\n",
    "```\n",
    "data_dummies = pd.get_dummies(data[['Year', 'Quarter', 'Month', 'DayofMonth', 'DayOfWeek', 'Reporting_Airline', 'Origin', 'Dest', 'is_holiday']], drop_first=True)\n",
    "data = pd.concat([data, data_dummies], axis = 1)\n",
    "categorical_columns.remove('is_delay')\n",
    "data.drop(categorical_columns,axis=1, inplace=True)\n",
    "```"
   ]
  },
  {
   "cell_type": "markdown",
   "metadata": {},
   "source": [
    "Check the new columns."
   ]
  },
  {
   "cell_type": "code",
   "execution_count": 60,
   "metadata": {},
   "outputs": [
    {
     "data": {
      "text/plain": [
       "Index(['is_delay', 'Distance', 'DepHourofDay', 'AWND_O', 'PRCP_O', 'TAVG_O',\n",
       "       'AWND_D', 'PRCP_D', 'TAVG_D', 'SNOW_O', 'SNOW_D', 'Year_2015',\n",
       "       'Year_2016', 'Year_2017', 'Year_2018', 'Quarter_2', 'Quarter_3',\n",
       "       'Quarter_4', 'Month_2', 'Month_3', 'Month_4', 'Month_5', 'Month_6',\n",
       "       'Month_7', 'Month_8', 'Month_9', 'Month_10', 'Month_11', 'Month_12',\n",
       "       'DayofMonth_2', 'DayofMonth_3', 'DayofMonth_4', 'DayofMonth_5',\n",
       "       'DayofMonth_6', 'DayofMonth_7', 'DayofMonth_8', 'DayofMonth_9',\n",
       "       'DayofMonth_10', 'DayofMonth_11', 'DayofMonth_12', 'DayofMonth_13',\n",
       "       'DayofMonth_14', 'DayofMonth_15', 'DayofMonth_16', 'DayofMonth_17',\n",
       "       'DayofMonth_18', 'DayofMonth_19', 'DayofMonth_20', 'DayofMonth_21',\n",
       "       'DayofMonth_22', 'DayofMonth_23', 'DayofMonth_24', 'DayofMonth_25',\n",
       "       'DayofMonth_26', 'DayofMonth_27', 'DayofMonth_28', 'DayofMonth_29',\n",
       "       'DayofMonth_30', 'DayofMonth_31', 'DayOfWeek_2', 'DayOfWeek_3',\n",
       "       'DayOfWeek_4', 'DayOfWeek_5', 'DayOfWeek_6', 'DayOfWeek_7',\n",
       "       'Reporting_Airline_DL', 'Reporting_Airline_OO', 'Reporting_Airline_UA',\n",
       "       'Reporting_Airline_WN', 'Origin_CLT', 'Origin_DEN', 'Origin_DFW',\n",
       "       'Origin_IAH', 'Origin_LAX', 'Origin_ORD', 'Origin_PHX', 'Origin_SFO',\n",
       "       'Dest_CLT', 'Dest_DEN', 'Dest_DFW', 'Dest_IAH', 'Dest_LAX', 'Dest_ORD',\n",
       "       'Dest_PHX', 'Dest_SFO', 'is_holiday_1'],\n",
       "      dtype='object')"
      ]
     },
     "execution_count": 60,
     "metadata": {},
     "output_type": "execute_result"
    }
   ],
   "source": [
    "data.columns"
   ]
  },
  {
   "cell_type": "markdown",
   "metadata": {},
   "source": [
    "### Sample output\n",
    "\n",
    "```\n",
    "Index(['Distance', 'DepHourofDay', 'is_delay', 'AWND_O', 'PRCP_O', 'TAVG_O',\n",
    "       'AWND_D', 'PRCP_D', 'TAVG_D', 'SNOW_O', 'SNOW_D', 'Year_2015',\n",
    "       'Year_2016', 'Year_2017', 'Year_2018', 'Quarter_2', 'Quarter_3',\n",
    "       'Quarter_4', 'Month_2', 'Month_3', 'Month_4', 'Month_5', 'Month_6',\n",
    "       'Month_7', 'Month_8', 'Month_9', 'Month_10', 'Month_11', 'Month_12',\n",
    "       'DayofMonth_2', 'DayofMonth_3', 'DayofMonth_4', 'DayofMonth_5',\n",
    "       'DayofMonth_6', 'DayofMonth_7', 'DayofMonth_8', 'DayofMonth_9',\n",
    "       'DayofMonth_10', 'DayofMonth_11', 'DayofMonth_12', 'DayofMonth_13',\n",
    "       'DayofMonth_14', 'DayofMonth_15', 'DayofMonth_16', 'DayofMonth_17',\n",
    "       'DayofMonth_18', 'DayofMonth_19', 'DayofMonth_20', 'DayofMonth_21',\n",
    "       'DayofMonth_22', 'DayofMonth_23', 'DayofMonth_24', 'DayofMonth_25',\n",
    "       'DayofMonth_26', 'DayofMonth_27', 'DayofMonth_28', 'DayofMonth_29',\n",
    "       'DayofMonth_30', 'DayofMonth_31', 'DayOfWeek_2', 'DayOfWeek_3',\n",
    "       'DayOfWeek_4', 'DayOfWeek_5', 'DayOfWeek_6', 'DayOfWeek_7',\n",
    "       'Reporting_Airline_DL', 'Reporting_Airline_OO', 'Reporting_Airline_UA',\n",
    "       'Reporting_Airline_WN', 'Origin_CLT', 'Origin_DEN', 'Origin_DFW',\n",
    "       'Origin_IAH', 'Origin_LAX', 'Origin_ORD', 'Origin_PHX', 'Origin_SFO',\n",
    "       'Dest_CLT', 'Dest_DEN', 'Dest_DFW', 'Dest_IAH', 'Dest_LAX', 'Dest_ORD',\n",
    "       'Dest_PHX', 'Dest_SFO', 'is_holiday_1'],\n",
    "      dtype='object')\n",
    "```"
   ]
  },
  {
   "cell_type": "markdown",
   "metadata": {},
   "source": [
    "Rename the `is_delay` column to `target` again. Use the same code as before."
   ]
  },
  {
   "cell_type": "code",
   "execution_count": 61,
   "metadata": {},
   "outputs": [],
   "source": [
    "data.rename(columns = {'is_delay': 'target'}, inplace=True)"
   ]
  },
  {
   "cell_type": "code",
   "execution_count": 62,
   "metadata": {},
   "outputs": [],
   "source": [
    "# write code to Save the new combined csv file (combined_csv_v2.csv) to your local computer\n",
    "# note this combined file will be also used in part B\n",
    "\n",
    "csv_v2_path = './data/data_extracted/combined_csv_v2.csv'\n",
    "#data.to_csv(csv_v2_path, index=False)\n",
    "for col in data.select_dtypes(include=['bool']).columns:\n",
    "    data[col] = data[col].astype(int)\n",
    "data.to_csv(csv_v2_path, index=False)\n",
    "\n"
   ]
  },
  {
   "cell_type": "markdown",
   "metadata": {},
   "source": [
    "Create the training and testing sets again."
   ]
  },
  {
   "cell_type": "code",
   "execution_count": 63,
   "metadata": {},
   "outputs": [
    {
     "name": "stdout",
     "output_type": "stream",
     "text": [
      "Training set size: 1308472\n",
      "Testing set size: 327118\n"
     ]
    }
   ],
   "source": [
    "from sklearn.model_selection import train_test_split\n",
    "\n",
    "# Separate target from predictors\n",
    "y = data['target']\n",
    "X = data.drop('target', axis=1)\n",
    "\n",
    "# Split data into train and test sets\n",
    "X_train, X_test, y_train, y_test = train_test_split(X, y, test_size=0.2, random_state=42)  # using 20% of the data for testing\n",
    "\n",
    "print(\"Training set size:\", len(X_train))\n",
    "print(\"Testing set size:\", len(X_test))\n"
   ]
  },
  {
   "cell_type": "markdown",
   "metadata": {},
   "source": [
    "### New baseline classifier\n",
    "\n",
    "Now, see if these new features add any predictive power to the model."
   ]
  },
  {
   "cell_type": "code",
   "execution_count": 64,
   "metadata": {},
   "outputs": [],
   "source": [
    "# Instantiate another logistic regression model\n",
    "from sklearn.linear_model import LogisticRegression\n",
    "\n",
    "classifier2 = LogisticRegression()  # I've set a higher max_iter to ensure convergence for larger datasets.\n"
   ]
  },
  {
   "cell_type": "code",
   "execution_count": 65,
   "metadata": {},
   "outputs": [
    {
     "data": {
      "text/html": [
       "<style>#sk-container-id-1 {color: black;}#sk-container-id-1 pre{padding: 0;}#sk-container-id-1 div.sk-toggleable {background-color: white;}#sk-container-id-1 label.sk-toggleable__label {cursor: pointer;display: block;width: 100%;margin-bottom: 0;padding: 0.3em;box-sizing: border-box;text-align: center;}#sk-container-id-1 label.sk-toggleable__label-arrow:before {content: \"▸\";float: left;margin-right: 0.25em;color: #696969;}#sk-container-id-1 label.sk-toggleable__label-arrow:hover:before {color: black;}#sk-container-id-1 div.sk-estimator:hover label.sk-toggleable__label-arrow:before {color: black;}#sk-container-id-1 div.sk-toggleable__content {max-height: 0;max-width: 0;overflow: hidden;text-align: left;background-color: #f0f8ff;}#sk-container-id-1 div.sk-toggleable__content pre {margin: 0.2em;color: black;border-radius: 0.25em;background-color: #f0f8ff;}#sk-container-id-1 input.sk-toggleable__control:checked~div.sk-toggleable__content {max-height: 200px;max-width: 100%;overflow: auto;}#sk-container-id-1 input.sk-toggleable__control:checked~label.sk-toggleable__label-arrow:before {content: \"▾\";}#sk-container-id-1 div.sk-estimator input.sk-toggleable__control:checked~label.sk-toggleable__label {background-color: #d4ebff;}#sk-container-id-1 div.sk-label input.sk-toggleable__control:checked~label.sk-toggleable__label {background-color: #d4ebff;}#sk-container-id-1 input.sk-hidden--visually {border: 0;clip: rect(1px 1px 1px 1px);clip: rect(1px, 1px, 1px, 1px);height: 1px;margin: -1px;overflow: hidden;padding: 0;position: absolute;width: 1px;}#sk-container-id-1 div.sk-estimator {font-family: monospace;background-color: #f0f8ff;border: 1px dotted black;border-radius: 0.25em;box-sizing: border-box;margin-bottom: 0.5em;}#sk-container-id-1 div.sk-estimator:hover {background-color: #d4ebff;}#sk-container-id-1 div.sk-parallel-item::after {content: \"\";width: 100%;border-bottom: 1px solid gray;flex-grow: 1;}#sk-container-id-1 div.sk-label:hover label.sk-toggleable__label {background-color: #d4ebff;}#sk-container-id-1 div.sk-serial::before {content: \"\";position: absolute;border-left: 1px solid gray;box-sizing: border-box;top: 0;bottom: 0;left: 50%;z-index: 0;}#sk-container-id-1 div.sk-serial {display: flex;flex-direction: column;align-items: center;background-color: white;padding-right: 0.2em;padding-left: 0.2em;position: relative;}#sk-container-id-1 div.sk-item {position: relative;z-index: 1;}#sk-container-id-1 div.sk-parallel {display: flex;align-items: stretch;justify-content: center;background-color: white;position: relative;}#sk-container-id-1 div.sk-item::before, #sk-container-id-1 div.sk-parallel-item::before {content: \"\";position: absolute;border-left: 1px solid gray;box-sizing: border-box;top: 0;bottom: 0;left: 50%;z-index: -1;}#sk-container-id-1 div.sk-parallel-item {display: flex;flex-direction: column;z-index: 1;position: relative;background-color: white;}#sk-container-id-1 div.sk-parallel-item:first-child::after {align-self: flex-end;width: 50%;}#sk-container-id-1 div.sk-parallel-item:last-child::after {align-self: flex-start;width: 50%;}#sk-container-id-1 div.sk-parallel-item:only-child::after {width: 0;}#sk-container-id-1 div.sk-dashed-wrapped {border: 1px dashed gray;margin: 0 0.4em 0.5em 0.4em;box-sizing: border-box;padding-bottom: 0.4em;background-color: white;}#sk-container-id-1 div.sk-label label {font-family: monospace;font-weight: bold;display: inline-block;line-height: 1.2em;}#sk-container-id-1 div.sk-label-container {text-align: center;}#sk-container-id-1 div.sk-container {/* jupyter's `normalize.less` sets `[hidden] { display: none; }` but bootstrap.min.css set `[hidden] { display: none !important; }` so we also need the `!important` here to be able to override the default hidden behavior on the sphinx rendered scikit-learn.org. See: https://github.com/scikit-learn/scikit-learn/issues/21755 */display: inline-block !important;position: relative;}#sk-container-id-1 div.sk-text-repr-fallback {display: none;}</style><div id=\"sk-container-id-1\" class=\"sk-top-container\"><div class=\"sk-text-repr-fallback\"><pre>LogisticRegression()</pre><b>In a Jupyter environment, please rerun this cell to show the HTML representation or trust the notebook. <br />On GitHub, the HTML representation is unable to render, please try loading this page with nbviewer.org.</b></div><div class=\"sk-container\" hidden><div class=\"sk-item\"><div class=\"sk-estimator sk-toggleable\"><input class=\"sk-toggleable__control sk-hidden--visually\" id=\"sk-estimator-id-1\" type=\"checkbox\" checked><label for=\"sk-estimator-id-1\" class=\"sk-toggleable__label sk-toggleable__label-arrow\">LogisticRegression</label><div class=\"sk-toggleable__content\"><pre>LogisticRegression()</pre></div></div></div></div></div>"
      ],
      "text/plain": [
       "LogisticRegression()"
      ]
     },
     "execution_count": 65,
     "metadata": {},
     "output_type": "execute_result"
    }
   ],
   "source": [
    "# 1. Train the model\n",
    "classifier2.fit(X_train, y_train)\n"
   ]
  },
  {
   "cell_type": "code",
   "execution_count": 66,
   "metadata": {},
   "outputs": [
    {
     "name": "stdout",
     "output_type": "stream",
     "text": [
      "Accuracy: 0.7907207796574937\n",
      "Precision: 0.4723378941106484\n",
      "Recall: 0.034936931651510704\n",
      "F1-Score: 0.06506152438441473\n",
      "ROC AUC: 0.5741505324971573\n"
     ]
    }
   ],
   "source": [
    "# 2. Make predictions\n",
    "y_pred = classifier2.predict(X_test)\n",
    "y_pred_proba = classifier2.predict_proba(X_test)[:,1]  # probabilities for the positive class\n",
    "\n",
    "# 3. Evaluate the model\n",
    "from sklearn.metrics import accuracy_score, precision_score, recall_score, f1_score, roc_auc_score, roc_curve, confusion_matrix\n",
    "import matplotlib.pyplot as plt\n",
    "import seaborn as sns\n",
    "\n",
    "accuracy = accuracy_score(y_test, y_pred)\n",
    "precision = precision_score(y_test, y_pred)\n",
    "recall = recall_score(y_test, y_pred)\n",
    "f1 = f1_score(y_test, y_pred)\n",
    "roc_auc = roc_auc_score(y_test, y_pred_proba)\n",
    "\n",
    "print(f\"Accuracy: {accuracy}\")\n",
    "print(f\"Precision: {precision}\")\n",
    "print(f\"Recall: {recall}\")\n",
    "print(f\"F1-Score: {f1}\")\n",
    "print(f\"ROC AUC: {roc_auc}\")\n"
   ]
  },
  {
   "cell_type": "code",
   "execution_count": 67,
   "metadata": {},
   "outputs": [
    {
     "data": {
      "image/png": "[encoded data removed]",
      "text/plain": [
       "<Figure size 800x600 with 1 Axes>"
      ]
     },
     "metadata": {},
     "output_type": "display_data"
    }
   ],
   "source": [
    "# 4. Plot ROC curve\n",
    "fpr, tpr, _ = roc_curve(y_test, y_pred_proba)\n",
    "plt.figure(figsize=(8, 6))\n",
    "plt.plot(fpr, tpr, label=f\"ROC AUC = {roc_auc:.2f}\")\n",
    "plt.plot([0, 1], [0, 1], linestyle='--', color='red')\n",
    "plt.title(\"ROC Curve\")\n",
    "plt.xlabel(\"False Positive Rate\")\n",
    "plt.ylabel(\"True Positive Rate\")\n",
    "plt.legend()\n",
    "plt.show()"
   ]
  },
  {
   "cell_type": "code",
   "execution_count": 68,
   "metadata": {},
   "outputs": [
    {
     "data": {
      "image/png": "[encoded data removed]",
      "text/plain": [
       "<Figure size 600x600 with 1 Axes>"
      ]
     },
     "metadata": {},
     "output_type": "display_data"
    }
   ],
   "source": [
    "\n",
    "# Plot confusion matrix\n",
    "conf_mat = confusion_matrix(y_test, y_pred)\n",
    "plt.figure(figsize=(6, 6))\n",
    "sns.heatmap(conf_mat, annot=True, fmt=\"d\", cmap=\"Blues\", cbar=False)\n",
    "plt.title(\"Confusion Matrix\")\n",
    "plt.xlabel(\"Predicted\")\n",
    "plt.ylabel(\"Actual\")\n",
    "plt.show()"
   ]
  },
  {
   "cell_type": "markdown",
   "metadata": {},
   "source": [
    "Perform the evaluaion as you have done with the previous model and plot/show the same metrics"
   ]
  },
  {
   "cell_type": "markdown",
   "metadata": {},
   "source": [
    "Question: did you notice a difference by adding the extra data on the results?"
   ]
  },
  {
   "cell_type": "markdown",
   "metadata": {},
   "source": [
    "-> Yes, by adding the extra data, there's a noticeable difference in the results. The model's ability to recognize the positive class has improved, as evidenced by the increase in recall and the decrease in false negatives. However, this has come at the cost of slightly decreased precision and an increase in false positives. Overall, the AUC has improved, indicating better performance\n",
    "\n",
    "First Model (Before Additional Data)\n",
    "\n",
    "Confusion Matrix:\n",
    "\n",
    "True Negatives (TN): 2,586,699\n",
    "\n",
    "False Positives (FP): 269\n",
    "\n",
    "False Negatives (FN): 67,903\n",
    "\n",
    "True Positives (TP): 277\n",
    "\n",
    "ROC Curve:\n",
    "\n",
    "AUC: 0.50151958142198 (approximately 0.50)\n",
    "\n",
    "Metrics:\n",
    "\n",
    "Accuracy: ~0.7915\n",
    "\n",
    "Precision: ~0.5073\n",
    "\n",
    "Recall (Sensitivity): ~0.0041 (approximately 0.41%)\n",
    "\n",
    "\n",
    "Second Model (After Additional Data)\n",
    "\n",
    "Confusion Matrix:\n",
    "\n",
    "True Negatives (TN): 2,562,777\n",
    "\n",
    "False Positives (FP): 2,661\n",
    "\n",
    "False Negatives (FN): 65,798\n",
    "\n",
    "True Positives (TP): 2,382\n",
    "\n",
    "ROC Curve:\n",
    "\n",
    "AUC: 0.57\n",
    "\n",
    "Metrics (approximately extracted from the visuals):\n",
    "\n",
    "Accuracy: ~0.7947\n",
    "\n",
    "Precision: ~0.4393\n",
    "\n",
    "Recall (Sensitivity): ~0.035 (approximately 3.5%)\n",
    "\n",
    "F1-Score: ~0.0635 (approximately 6.35%)\n",
    "\n",
    "Analysis:\n",
    "\n",
    "Performance: After adding extra data, the model's performance has improved, as indicated by the AUC score which increased from 0.50 to 0.57. Although the improvement isn't massive, it is still notable.\n",
    "Recall: The recall has improved from 0.41% to 3.5%. This means that the model is identifying a larger portion of the positive class correctly.\n",
    "\n",
    "Precision: The precision has decreased slightly from 50.73% to 43.93%. This means out of all positive predictions, a slightly lower percentage are correct in the updated model.\n",
    "\n",
    "Accuracy: The accuracy of the model also improved slightly from 79.15% to approximately 79.47%.\n",
    "False Negatives: There's a decrease in the number of false negatives, which is a positive indication since it means the model missed fewer positive instances.\n",
    "\n",
    "False Positives: There's an increase in the number of false positives, which means the model incorrectly identified more negatives as positives. This is a trade-off as the model becomes more sensitive to capturing positives."
   ]
  },
  {
   "cell_type": "markdown",
   "metadata": {},
   "source": [
    "# Step 6: Using Tableau\n",
    "\n",
    "Use Tableau to load the combined_csv_v2.csv file and build a dashboard that show your understanding of the data and business problem. \n",
    "### what to do:\n",
    "1. Load the data into Tableau and build the dashboard\n",
    "2. Share the dashboard on your Tableau public account \n",
    "3. Copy the link of the shared dashboard below\n",
    "\n",
    "Note: The dashboard needs to be self explainable to others, so make it simple and add only the features that you feel heighlight the main question(s) of the prblem statement."
   ]
  },
  {
   "cell_type": "markdown",
   "metadata": {},
   "source": [
    "### Dashboard\n",
    "\n",
    "https://public.tableau.com/app/profile/suraj.shrestha4825/viz/DS_FinalTableau/DashboardFinal#1\n",
    "\n",
    "### Flight delayed on the basis of year\n",
    "\n",
    "https://public.tableau.com/app/profile/suraj.shrestha4825/viz/DS_FinalTableau_1/YearFlightDelay?publish=yes\n",
    "\n",
    "### Flight delayed on the basis of month\n",
    "https://public.tableau.com/app/profile/suraj.shrestha4825/viz/DS_FinalTableau2/MonthsFlightDelay?publish=yes\n",
    "\n",
    "\n",
    "### Flight delayed on the basis of flight name\n",
    "https://public.tableau.com/app/profile/suraj.shrestha4825/viz/DS_FinalTableau3/AirlinesDelay?publish=yes\n",
    "\n",
    "\n"
   ]
  },
  {
   "cell_type": "markdown",
   "metadata": {},
   "source": [
    "## Conclusion\n",
    "\n",
    "You've now gone through at least a couple iterations of training and evaluating your model. It's time to wrap up this project and reflect on what you've learned and what types of steps you might take moving forward (assuming you had more time). Use the cell below to answer some of these and other relevant questions:\n",
    "\n",
    "1. Does your model performance meet your business goal? If not, what are some things you'd like to do differently if you had more time for tuning?\n",
    "\n",
    "-> The model performance does not meet the business goal based on the provided evaluation metrics. The ROC AUC is around 0.50 for the first model, which is equivalent to random guessing, and even though it improved slightly to 0.57 in the second ROC curve, it still isn't particularly strong. The confusion matrix also shows a large number of false negatives. If there was more time for tuning, I'd:\n",
    "\n",
    "        1) Look into feature engineering or feature selection to see if certain features contribute more to predictive power.\n",
    "        2) Try different algorithms or models that may better capture the data's patterns.\n",
    "        3) Collect more data or balance the dataset if it's imbalanced.\n",
    "        4) Adjust model parameters and utilize techniques like cross-validation for better optimization.\n",
    "\n",
    "\n",
    "2. To what extent did your model improve as you made changes to your dataset? What types of techniques did you employ throughout this project that you felt yielded the greatest improvements in your model?\n",
    "\n",
    "-> Model improved slighly as changing in dataset. However, based on the improvement in the ROC AUC score from 0.50 to 0.57, there seems to have been a slight improvement. Techniques that can yield significant improvements in models generally include:\n",
    "\n",
    "        1) Handling missing values and outliers.\n",
    "        2) Feature scaling and normalization.\n",
    "        3) Balancing the dataset using techniques like oversampling, undersampling, or SMOTE.\n",
    "        4) Feature engineering, like creating interaction terms or polynomial features.\n",
    "3. What were some of the biggest challenges you encountered throughout this project?\n",
    "\n",
    "-> Here are some of the challeges I have encountered throughout the project\n",
    "\n",
    "        1) Dealing with imbalanced datasets.\n",
    "        2) Overfitting or underfitting of models.\n",
    "        3) Inadequate data or poor-quality data.\n",
    "        4) Selecting the appropriate model or algorithm for the specific problem.\n",
    "        5) Interpreting complex models.\n",
    "4. What were the three most important things you learned about machine learning while completing this project?\n",
    "\n",
    "-> Here are the three this I've learned about ML while completing this project\n",
    "\n",
    "        1) The importance of data quality and preprocessing in building effective models.\n",
    "        2) The value of understanding the business or domain problem to guide the modeling process.\n",
    "        3) The realization that more complex models aren't always better, and sometimes simpler models can be more interpretable and effective."
   ]
  },
  {
   "cell_type": "code",
   "execution_count": null,
   "metadata": {},
   "outputs": [],
   "source": []
  }
 ],
 "metadata": {
  "kernelspec": {
   "display_name": "Python 3 (ipykernel)",
   "language": "python",
   "name": "python3"
  },
  "language_info": {
   "codemirror_mode": {
    "name": "ipython",
    "version": 3
   },
   "file_extension": ".py",
   "mimetype": "text/x-python",
   "name": "python",
   "nbconvert_exporter": "python",
   "pygments_lexer": "ipython3",
   "version": "3.9.16"
  }
 },
 "nbformat": 4,
 "nbformat_minor": 4
}
